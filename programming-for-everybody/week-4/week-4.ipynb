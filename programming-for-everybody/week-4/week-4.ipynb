{
 "cells": [
  {
   "cell_type": "markdown",
   "metadata": {},
   "source": [
    "## Write a program that uses input to prompt a user for their name and then welcomes them."
   ]
  },
  {
   "cell_type": "markdown",
   "metadata": {},
   "source": [
    "## variables"
   ]
  },
  {
   "cell_type": "code",
   "execution_count": null,
   "metadata": {},
   "outputs": [],
   "source": [
    ">>> message = 'And now for something completely different'\n",
    ">>> n = 17\n",
    ">>> pi = 3.14159265358979\n",
    "\n",
    "## if you want to display the variable you can use a print stament\n",
    ">>> print(n)\n",
    "17\n",
    ">>> print(pi)\n",
    "3.141592653589793"
   ]
  },
  {
   "cell_type": "code",
   "execution_count": null,
   "metadata": {},
   "outputs": [],
   "source": [
    "name=input(\"enter your name:\")\n",
    "print(str(\"hello\")+\" \"+str(name))\n",
    "enter your name:maria\n",
    "hello maria"
   ]
  },
  {
   "cell_type": "markdown",
   "metadata": {},
   "source": [
    "## Write a program to prompt the user for hours and rate per hour to compute gross pay."
   ]
  },
  {
   "cell_type": "code",
   "execution_count": null,
   "metadata": {},
   "outputs": [],
   "source": [
    "hours=int(input(\"enter numbers of hours: \"))\n",
    "rate=float(input(\"enter rate: \"))\n",
    "pay=hours*rate\n",
    "print(str(\"your pay is:\")+\" \"+str(pay))"
   ]
  },
  {
   "cell_type": "markdown",
   "metadata": {},
   "source": [
    "## Exercise 4: Assume that we execute the following assignment statements"
   ]
  },
  {
   "cell_type": "code",
   "execution_count": null,
   "metadata": {},
   "outputs": [],
   "source": [
    "\n",
    "width = 17\n",
    "height = 12.0\n",
    "For each of the following expressions, write the value of the expression\n",
    " and the type (of the value of the expression).\n",
    "width//2\n",
    "width/2.0\n",
    "height/3\n",
    "1 + 2 * 5"
   ]
  },
  {
   "cell_type": "code",
   "execution_count": null,
   "metadata": {},
   "outputs": [],
   "source": [
    "width = 17\n",
    "height = 12.0\n",
    "result_1=width//2\n",
    "result_2=width/2.0\n",
    "result_3=height/3\n",
    "result_4=1+2*5\n",
    "print(str(result_1)+\" \"+str(\"the type is: int\"))\n",
    "print(str(result_2)+\" \"+str(\"the type is: float\"))\n",
    "print(str(result_3)+\" \"+str(\"the type is: float\"))\n",
    "print(str(result_4)+\" \"+str(\"the type is: int\"))"
   ]
  },
  {
   "cell_type": "markdown",
   "metadata": {},
   "source": [
    "## Exercise 5: Write a program which prompts the user for a Celsius temperature convert the temperature to Fahrenheit, and print out the converted temperature.\n"
   ]
  },
  {
   "cell_type": "code",
   "execution_count": null,
   "metadata": {},
   "outputs": [],
   "source": [
    "celcius=int(input(\"enter the temperature en Celcius: \"))\n",
    "farenheit=celcius*9//5+32\n",
    "print(str(\"the temperature in farenheit grades is:\")+\" \"+str(farenheit))\n"
   ]
  },
  {
   "cell_type": "markdown",
   "metadata": {},
   "source": [
    "## Exercise 1: Rewrite your pay computation to give the employee 1.5 times the hourly rate for hours worked above 40 hours."
   ]
  },
  {
   "cell_type": "code",
   "execution_count": null,
   "metadata": {},
   "outputs": [],
   "source": [
    "hrs =  float(input(\"Enter Hours:\"))\n",
    "rate=float(input(\"Enter Rate:\"))\n",
    "normal_pay=hrs*rate\n",
    "if hrs>40:\n",
    "    hours_extra=(hrs-40)*1.5*rate\n",
    "    pay_extra=40*rate+hours_extra\n",
    "    print((str(\"your extra pay is:\")+\" \"+str(pay_extra)))\n",
    "else:\n",
    "    normal_pay=hrs*rate\n",
    "    print((str(\"you don^t have extra pay\")+\" \"+str(normal_pay)))"
   ]
  },
  {
   "cell_type": "markdown",
   "metadata": {},
   "source": [
    "## 3.3 Write a program to prompt for a score between 0.0 and 1.0. If the score is out of range, print an error. If the score is between 0.0 and 1.0, print a grade using the following table:\n"
   ]
  },
  {
   "cell_type": "markdown",
   "metadata": {},
   "source": [
    "Score Grade\n",
    "#>= 0.9 A\n",
    "#>= 0.8 B\n",
    "#>= 0.7 C\n",
    "#>= 0.6 D\n",
    "#< 0.6 F\n",
    "If the user enters a value out of range, print a suitable error message and exit. For the test, enter a score of 0.85"
   ]
  },
  {
   "cell_type": "code",
   "execution_count": null,
   "metadata": {},
   "outputs": [],
   "source": [
    "\n",
    "score = float(input(\"Enter Score: \"))\n",
    "if score<0 or score>=1.5:\n",
    "    print(\"your score is out of range\")\n",
    "elif score>=0.9:\n",
    "    print(\"A\")\n",
    "elif score>=0.8:\n",
    "    print(\"B\")\n",
    "elif score>=0.7:\n",
    "    print(\"C\")\n",
    "elif score>=0.6:\n",
    "    print(\"D\")\n",
    "else:\n",
    "    score<0.6\n",
    "    print(\"F\")"
   ]
  },
  {
   "cell_type": "markdown",
   "metadata": {},
   "source": [
    "## values and types"
   ]
  },
  {
   "cell_type": "code",
   "execution_count": null,
   "metadata": {},
   "outputs": [],
   "source": [
    "2 is an #integer\n",
    "\"Hello, World!\" is a #string\n",
    "The print statement also works for integers. We use the python command to start the interpreter.\n",
    "\n",
    "python\n",
    ">>> print(4)\n",
    "4\n",
    "# If you are not sure what type a value has, the interpreter can tell you.\n",
    "\n",
    ">>> type('Hello, World!')\n",
    "<class 'str'>\n",
    ">>> type(17)\n",
    "<class 'int'>\n",
    "#float\n",
    ">>> type(3.2)\n",
    "<class 'float'>"
   ]
  },
  {
   "cell_type": "markdown",
   "metadata": {},
   "source": [
    "## variables"
   ]
  },
  {
   "cell_type": "code",
   "execution_count": null,
   "metadata": {},
   "outputs": [],
   "source": [
    ">>> message = 'And now for something completely different'\n",
    ">>> n = 17\n",
    ">>> pi = 3.14159265358979\n",
    "\n",
    "## if you want to display the variable you can use a print stament\n",
    ">>> print(n)\n",
    "17\n",
    ">>> print(pi)\n",
    "3.141592653589793"
   ]
  }
 ],
 "metadata": {
  "kernelspec": {
   "display_name": "Python 3",
   "language": "python",
   "name": "python3"
  },
  "language_info": {
   "codemirror_mode": {
    "name": "ipython",
    "version": 3
   },
   "file_extension": ".py",
   "mimetype": "text/x-python",
   "name": "python",
   "nbconvert_exporter": "python",
   "pygments_lexer": "ipython3",
   "version": "3.6.8"
  }
 },
 "nbformat": 4,
 "nbformat_minor": 2
}
