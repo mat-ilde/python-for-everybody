{
 "cells": [
  {
   "cell_type": "markdown",
   "metadata": {},
   "source": [
    "## Repeated steps"
   ]
  },
  {
   "cell_type": "code",
   "execution_count": null,
   "metadata": {},
   "outputs": [],
   "source": [
    "# first value of n\n",
    "n=5\n",
    "#this is the loop\n",
    "while n>0:\n",
    "    print(n)\n",
    "    #the iterations\n",
    "    n=n-1\n",
    "print(\"blastoff\")"
   ]
  },
  {
   "cell_type": "markdown",
   "metadata": {},
   "source": [
    "## Infinite loop"
   ]
  },
  {
   "cell_type": "code",
   "execution_count": null,
   "metadata": {},
   "outputs": [],
   "source": [
    "n=5\n",
    "while n>0:\n",
    "    print(\"lather\")\n",
    "    print(\"rinse\")\n",
    "print(\"dry off\")"
   ]
  },
  {
   "cell_type": "markdown",
   "metadata": {},
   "source": [
    "## Breaking out of a loop"
   ]
  },
  {
   "cell_type": "code",
   "execution_count": 1,
   "metadata": {},
   "outputs": [
    {
     "name": "stdout",
     "output_type": "stream",
     "text": [
      "><\n",
      "<\n",
      ">>\n",
      ">\n",
      "><\n",
      "<\n",
      "><\n",
      "<\n",
      ">done\n",
      "done!\n"
     ]
    }
   ],
   "source": [
    "while True:\n",
    "    line=input(\">\")\n",
    "    if line==(\"done\"):\n",
    "            break\n",
    "    print(line)\n",
    "print(\"done!\")"
   ]
  },
  {
   "cell_type": "markdown",
   "metadata": {},
   "source": [
    "## A simple definite loop"
   ]
  },
  {
   "cell_type": "code",
   "execution_count": 6,
   "metadata": {},
   "outputs": [
    {
     "name": "stdout",
     "output_type": "stream",
     "text": [
      "1\n",
      "2\n",
      "3\n",
      "4\n",
      "5\n",
      "blastoff!\n"
     ]
    }
   ],
   "source": [
    "for i in [1,2,3,4,5]:\n",
    "    print(i)\n",
    "print(\"blastoff!\")"
   ]
  },
  {
   "cell_type": "markdown",
   "metadata": {},
   "source": [
    "## A definite loop for strings"
   ]
  },
  {
   "cell_type": "code",
   "execution_count": 2,
   "metadata": {},
   "outputs": [
    {
     "name": "stdout",
     "output_type": "stream",
     "text": [
      "i love you Mami\n",
      "i love you Fabiel\n",
      "i love you Elianny\n"
     ]
    }
   ],
   "source": [
    "family=[\"Mami\",\"Fabiel\",\"Elianny\"]\n",
    "for family in family:\n",
    "    print(\"i love you\",family)"
   ]
  },
  {
   "cell_type": "markdown",
   "metadata": {},
   "source": [
    "## Finding the largest value"
   ]
  },
  {
   "cell_type": "code",
   "execution_count": 13,
   "metadata": {},
   "outputs": [
    {
     "name": "stdout",
     "output_type": "stream",
     "text": [
      "before -1\n",
      "3 3\n",
      "5 5\n",
      "74 74\n",
      "74 25\n",
      "after 74\n"
     ]
    }
   ],
   "source": [
    "largest_so_far=-1\n",
    "print(\"before\",largest_so_far)\n",
    "for the_num in[3,5, 74,25]:\n",
    "    if the_num>largest_so_far:\n",
    "        largest_so_far=the_num\n",
    "    print(largest_so_far,the_num)\n",
    "print(\"after\",largest_so_far)"
   ]
  },
  {
   "cell_type": "code",
   "execution_count": 51,
   "metadata": {},
   "outputs": [
    {
     "name": "stdout",
     "output_type": "stream",
     "text": [
      "peor nota: 2\n",
      "peor nota: 3\n",
      "mejor nota: 10\n"
     ]
    }
   ],
   "source": [
    "mejor_nota=-1\n",
    "peor_nota=1\n",
    "for notas in[2,3,4.5,5,8,9.6,10]:\n",
    "    if notas>mejor_nota:\n",
    "        if notas:\n",
    "            print(\"peor nota:\",notas)\n",
    "        mejor_nota=notas\n",
    "print(\"mejor nota:\",notas)"
   ]
  },
  {
   "cell_type": "code",
   "execution_count": 31,
   "metadata": {},
   "outputs": [],
   "source": [
    "#ejemplo encontrar mejor nota\n",
    "def compute_best_note(notes):\n",
    "    best_note=0\n",
    "    for note in notes:\n",
    "        if note>best_note:\n",
    "            best_note=note\n",
    "    return best_note\n"
   ]
  },
  {
   "cell_type": "code",
   "execution_count": 38,
   "metadata": {},
   "outputs": [
    {
     "name": "stdout",
     "output_type": "stream",
     "text": [
      "10\n"
     ]
    }
   ],
   "source": [
    "better_note=compute_best_note([1,5,7,8,10])\n",
    "print(better_note)\n"
   ]
  },
  {
   "cell_type": "code",
   "execution_count": 46,
   "metadata": {},
   "outputs": [],
   "source": [
    "#ejemplo para encontrar la peor nota\n",
    "def compute_worst_note(notes):\n",
    "    worst_note=10\n",
    "    for note in notes:\n",
    "        if note<worst_note:\n",
    "            worst_note=note\n",
    "    return worst_note"
   ]
  },
  {
   "cell_type": "code",
   "execution_count": 47,
   "metadata": {},
   "outputs": [
    {
     "name": "stdout",
     "output_type": "stream",
     "text": [
      "1\n"
     ]
    }
   ],
   "source": [
    "worst_note=compute_worst_note([1,5,7,8,10])\n",
    "print(worst_note)\n"
   ]
  },
  {
   "cell_type": "markdown",
   "metadata": {},
   "source": [
    "## How to findind the smallest value"
   ]
  },
  {
   "cell_type": "code",
   "execution_count": 86,
   "metadata": {},
   "outputs": [
    {
     "name": "stdout",
     "output_type": "stream",
     "text": [
      "before\n",
      "9 9\n",
      "3 3\n",
      "after 3\n"
     ]
    }
   ],
   "source": [
    "smallest_so_far = None\n",
    "print(\"before\")\n",
    "for value in [41, 41, 9, 12, 3, 74, 15] :\n",
    "    if smallest_so_far is None:\n",
    "        smallest_so_far=value\n",
    "    elif value < smallest_so_far :\n",
    "        smallest_so_far = value\n",
    "        print(smallest_so_far, value)\n",
    "print(\"after\", smallest_so_far)"
   ]
  },
  {
   "cell_type": "code",
   "execution_count": 80,
   "metadata": {},
   "outputs": [
    {
     "name": "stdout",
     "output_type": "stream",
     "text": [
      "before\n",
      "9 9\n",
      "3 3\n",
      "after 3\n"
     ]
    }
   ],
   "source": [
    "smallest_so_far = 1000\n",
    "print(\"before\")\n",
    "for value in [9, 41, 12, 3, 74, 15] :\n",
    "    if value < smallest_so_far :\n",
    "        smallest_so_far = value\n",
    "        print(smallest_so_far, value)\n",
    "print(\"after\", smallest_so_far)\n",
    "\n",
    "        "
   ]
  },
  {
   "cell_type": "markdown",
   "metadata": {},
   "source": [
    "## Average"
   ]
  },
  {
   "cell_type": "code",
   "execution_count": 25,
   "metadata": {},
   "outputs": [
    {
     "name": "stdout",
     "output_type": "stream",
     "text": [
      "25.666666666666668\n"
     ]
    }
   ],
   "source": [
    "count=0\n",
    "sum=0\n",
    "for value in [9, 41, 12, 3, 74, 15]:\n",
    "    sum=sum+value\n",
    "    count=count+1\n",
    "print(sum/count)\n"
   ]
  },
  {
   "cell_type": "code",
   "execution_count": 26,
   "metadata": {},
   "outputs": [],
   "source": [
    "#otro ejemplo con funciones\n",
    "def compute_average(list_numbers):\n",
    "    count=0\n",
    "    sum=0\n",
    "    for value in list_numbers:\n",
    "        sum=sum+value\n",
    "        count=count+1\n",
    "    return(sum/count)\n"
   ]
  },
  {
   "cell_type": "code",
   "execution_count": 28,
   "metadata": {},
   "outputs": [
    {
     "name": "stdout",
     "output_type": "stream",
     "text": [
      "25.666666666666668\n"
     ]
    }
   ],
   "source": [
    "average=compute_average([9, 41, 12, 3, 74, 15])\n",
    "print(average)"
   ]
  },
  {
   "cell_type": "code",
   "execution_count": 30,
   "metadata": {},
   "outputs": [
    {
     "name": "stdout",
     "output_type": "stream",
     "text": [
      "kevin is better student\n"
     ]
    }
   ],
   "source": [
    "notes_thom=[4.5,10,5.7,0]\n",
    "notes_kevin=[1.3,6.3,10]\n",
    "average_thom=compute_average(notes_thom)\n",
    "average_kevin=compute_average(notes_kevin)\n",
    "if average_kevin>average_thom:\n",
    "    print(\"kevin is better student\")\n",
    "else:\n",
    "    print(\"thom is better student\")"
   ]
  },
  {
   "cell_type": "markdown",
   "metadata": {},
   "source": [
    "## Final submission of the course"
   ]
  },
  {
   "cell_type": "code",
   "execution_count": null,
   "metadata": {},
   "outputs": [],
   "source": [
    "input_usuario=int(input())\n",
    "maximum=input_usuario\n",
    "minimum=input_usuario\n",
    "while input_usuario!=\"done\":\n",
    "    try:\n",
    "        input_usuario=(int(input_usuario))\n",
    "        if input_usuario>maximum:\n",
    "            maximum=input_usuario\n",
    "        if input_usuario<minimum:\n",
    "            minimum=input_usuario\n",
    "            \n",
    "    except Exception as e:\n",
    "        print(\"Invalid input\")\n",
    "\n",
    "    input_usuario=(input())        \n",
    "print(\"Maximum is\",maximum)\n",
    "print(\"Minimum is\",minimum)"
   ]
  },
  {
   "cell_type": "code",
   "execution_count": null,
   "metadata": {},
   "outputs": [],
   "source": []
  },
  {
   "cell_type": "markdown",
   "metadata": {},
   "source": [
    "## Looking for the number 10 in a tuple"
   ]
  },
  {
   "cell_type": "code",
   "execution_count": 5,
   "metadata": {},
   "outputs": [
    {
     "name": "stdout",
     "output_type": "stream",
     "text": [
      "Yes\n"
     ]
    }
   ],
   "source": [
    "found=False\n",
    "for value in(1,4,6,10,8):\n",
    "    if value== 10:\n",
    "        found=True\n",
    "# esto fuera del bucle porque no esta tabulado.\n",
    "# sino estuviera imprimira todas las respuestas.\n",
    "if found==True:\n",
    "    print(\"Yes\")\n",
    "else:\n",
    "    print(\"No\")\n"
   ]
  },
  {
   "cell_type": "code",
   "execution_count": 14,
   "metadata": {},
   "outputs": [],
   "source": [
    "def list_contain_numbers(my_list,number):\n",
    "    found=False\n",
    "    for value in my_list:\n",
    "        if value== number:\n",
    "            found=True\n",
    "    # esto fuera del bucle porque no esta tabulado.\n",
    "    # sino estuviera imprimira todas las respuestas.\n",
    "    if found==True:\n",
    "        print(\"Yes\")\n",
    "    else:\n",
    "        print(\"No\")\n"
   ]
  },
  {
   "cell_type": "code",
   "execution_count": 8,
   "metadata": {},
   "outputs": [
    {
     "name": "stdout",
     "output_type": "stream",
     "text": [
      "No\n"
     ]
    }
   ],
   "source": [
    "list_contain_numbers((1,4,6,10,8),20)"
   ]
  },
  {
   "cell_type": "code",
   "execution_count": 12,
   "metadata": {},
   "outputs": [
    {
     "name": "stdout",
     "output_type": "stream",
     "text": [
      "Yes\n"
     ]
    }
   ],
   "source": [
    "list_contain_numbers((\"juana\",\"maria\",\"pedro\"),\"pedro\")"
   ]
  },
  {
   "cell_type": "code",
   "execution_count": null,
   "metadata": {},
   "outputs": [],
   "source": [
    "is_name_in_list = list_contain_numbers((\"juana\",\"maria\",\"pedro\"),\"pedro\")"
   ]
  },
  {
   "cell_type": "code",
   "execution_count": 15,
   "metadata": {},
   "outputs": [],
   "source": [
    "def list_contain_numbers(my_list,number):\n",
    "    found=False\n",
    "    for value in my_list:\n",
    "        if value== number:\n",
    "            found=True\n",
    "    # esto fuera del bucle porque no esta tabulado.\n",
    "    # sino estuviera imprimira todas las respuestas.\n",
    "    if found==True:\n",
    "        return(\"Yes\")\n",
    "    else:\n",
    "        return(\"No\")\n"
   ]
  },
  {
   "cell_type": "code",
   "execution_count": 16,
   "metadata": {},
   "outputs": [],
   "source": [
    "is_name_in_list = list_contain_numbers((\"juana\",\"maria\",\"pedro\"),\"pedro\")"
   ]
  },
  {
   "cell_type": "code",
   "execution_count": 18,
   "metadata": {},
   "outputs": [],
   "source": [
    "def feet_to_meters(n_feets):\n",
    "    n_meters = n_feets*0.3048\n",
    "    return n_meters\n",
    "    "
   ]
  },
  {
   "cell_type": "code",
   "execution_count": 23,
   "metadata": {},
   "outputs": [
    {
     "name": "stdout",
     "output_type": "stream",
     "text": [
      "Compatible\n"
     ]
    }
   ],
   "source": [
    "feet_person_one = 4\n",
    "feet_person_two = 5.5\n",
    "\n",
    "meters_person_one = feet_to_meters(feet_person_one)\n",
    "meters_person_two = feet_to_meters(feet_person_two)\n",
    "\n",
    "if meters_person_two-meters_person_one>0.5:\n",
    "    print(\"Not compatible\")\n",
    "else:\n",
    "    print(\"Compatible\")\n",
    "    "
   ]
  },
  {
   "cell_type": "code",
   "execution_count": 22,
   "metadata": {},
   "outputs": [
    {
     "data": {
      "text/plain": [
       "1.6764000000000001"
      ]
     },
     "execution_count": 22,
     "metadata": {},
     "output_type": "execute_result"
    }
   ],
   "source": [
    "meters_person_two"
   ]
  }
 ],
 "metadata": {
  "kernelspec": {
   "display_name": "Python 3",
   "language": "python",
   "name": "python3"
  },
  "language_info": {
   "codemirror_mode": {
    "name": "ipython",
    "version": 3
   },
   "file_extension": ".py",
   "mimetype": "text/x-python",
   "name": "python",
   "nbconvert_exporter": "python",
   "pygments_lexer": "ipython3",
   "version": "3.6.8"
  }
 },
 "nbformat": 4,
 "nbformat_minor": 2
}
