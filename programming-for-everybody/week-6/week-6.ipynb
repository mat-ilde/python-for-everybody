{
 "cells": [
  {
   "cell_type": "markdown",
   "metadata": {},
   "source": [
    "## 4.6 Write a program to prompt the user for hours and rate per hour using input to compute gross pay. Pay should be the normal rate for hours up to 40 and time-and-a-half for the hourly rate for all hours worked above 40 hours. Put the logic to do the computation of pay in a function called computepay() and use the function to do the computation. The function should return a value. Use 45 hours and a rate of 10.50 per hour to test the program (the pay should be 498.75). You should use input to read a string and float() to convert the string to a number. Do not worry about error checking the user input unless you want to - you can assume the user types numbers properly. Do not name your variable sum or use the sum() function."
   ]
  },
  {
   "cell_type": "code",
   "execution_count": 10,
   "metadata": {},
   "outputs": [
    {
     "name": "stdout",
     "output_type": "stream",
     "text": [
      "the number of hours is: 10\n",
      "the rate is: 2\n",
      "20\n",
      "the number of hours is: 30\n",
      "the rate is: 2\n",
      "60\n",
      "the number of hours is: 30\n",
      "the rate is: 3\n",
      "90\n"
     ]
    }
   ],
   "source": [
    "def computepay(hours,rate):\n",
    "    print(\"the number of hours is: \"+str(hours))\n",
    "    print(\"the rate is: \"+str(rate))\n",
    "    pay=hours*rate\n",
    "    return pay\n",
    "\n",
    "print(computepay(10,2))\n",
    "print(computepay(30,2))\n",
    "print(computepay(30,3))"
   ]
  },
  {
   "cell_type": "code",
   "execution_count": 14,
   "metadata": {},
   "outputs": [
    {
     "name": "stdout",
     "output_type": "stream",
     "text": [
      "introduce numbers of hours 30\n",
      "introduce rate 2\n",
      "the number of hours is: 30\n",
      "the rate is: 2\n",
      "60\n"
     ]
    }
   ],
   "source": [
    "hours_user=int(input(\"introduce numbers of hours \"))\n",
    "rate_user=int(input(\"introduce rate \"))\n",
    "print(computepay(hours_user,rate_user))\n",
    "\n"
   ]
  },
  {
   "cell_type": "code",
   "execution_count": 7,
   "metadata": {},
   "outputs": [
    {
     "name": "stdout",
     "output_type": "stream",
     "text": [
      "Enter Hours:45\n",
      "Enter Rate:10.5\n",
      "Pay 498.75\n"
     ]
    }
   ],
   "source": [
    "def computepay(h,r):\n",
    "    if h>40:\n",
    "        extra_hours=(h-40)\n",
    "        pay_normal_hours=r*40\n",
    "        pay_extra_hours=extra_hours*r*1.5\n",
    "        final_pay=pay_extra_hours+pay_normal_hours\n",
    "    else:\n",
    "        final_pay=r*h\n",
    "    return final_pay\n",
    "\n",
    "hrs =  int(input(\"Enter Hours:\"))\n",
    "rate= float(input(\"Enter Rate:\"))\n",
    "p = computepay(hrs,rate)\n",
    "print(\"Pay\",p)\n"
   ]
  },
  {
   "cell_type": "code",
   "execution_count": 8,
   "metadata": {},
   "outputs": [
    {
     "data": {
      "text/plain": [
       "498.75"
      ]
     },
     "execution_count": 8,
     "metadata": {},
     "output_type": "execute_result"
    }
   ],
   "source": [
    "5*10.5*1.5+40*10.5"
   ]
  }
 ],
 "metadata": {
  "kernelspec": {
   "display_name": "Python 3",
   "language": "python",
   "name": "python3"
  },
  "language_info": {
   "codemirror_mode": {
    "name": "ipython",
    "version": 3
   },
   "file_extension": ".py",
   "mimetype": "text/x-python",
   "name": "python",
   "nbconvert_exporter": "python",
   "pygments_lexer": "ipython3",
   "version": "3.6.8"
  }
 },
 "nbformat": 4,
 "nbformat_minor": 2
}
