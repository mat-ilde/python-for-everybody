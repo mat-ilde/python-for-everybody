{
 "cells": [
  {
   "cell_type": "markdown",
   "metadata": {},
   "source": [
    "## Our first print"
   ]
  },
  {
   "cell_type": "code",
   "execution_count": null,
   "metadata": {},
   "outputs": [],
   "source": [
    "# is the form that show us our program on screen\n",
    "print(\"hello world\")"
   ]
  },
  {
   "cell_type": "markdown",
   "metadata": {},
   "source": [
    "## Sequential steps"
   ]
  },
  {
   "cell_type": "code",
   "execution_count": 1,
   "metadata": {},
   "outputs": [
    {
     "name": "stdout",
     "output_type": "stream",
     "text": [
      "2\n",
      "4\n"
     ]
    }
   ],
   "source": [
    "# initial value of x=2\n",
    "x=2\n",
    "# is that we see in the screen\n",
    "print(x)\n",
    "#2 is added t the previous value of x\n",
    "x=x+2\n",
    "# and print the new value\n",
    "print(x)"
   ]
  },
  {
   "cell_type": "markdown",
   "metadata": {},
   "source": [
    "## Conditional steps"
   ]
  },
  {
   "cell_type": "code",
   "execution_count": null,
   "metadata": {},
   "outputs": [],
   "source": [
    "# initial value of x\n",
    "x=5\n",
    "# the condition\n",
    "if x>10:\n",
    "    print(\"smaller\")\n",
    "# out of conditionif not met\n",
    "# without identation\n",
    "print(\"finish\")"
   ]
  },
  {
   "cell_type": "markdown",
   "metadata": {},
   "source": [
    "## Repeat steps"
   ]
  },
  {
   "cell_type": "code",
   "execution_count": null,
   "metadata": {},
   "outputs": [],
   "source": [
    "# first value of n\n",
    "n=5\n",
    "#this is the loop\n",
    "while n>0:\n",
    "    print(n)\n",
    "    #the iterations\n",
    "    n=n-1\n",
    "print(\"blastoff\")"
   ]
  },
  {
   "cell_type": "code",
   "execution_count": null,
   "metadata": {},
   "outputs": [],
   "source": []
  },
  {
   "cell_type": "code",
   "execution_count": null,
   "metadata": {},
   "outputs": [],
   "source": []
  },
  {
   "cell_type": "markdown",
   "metadata": {},
   "source": [
    "## values and types"
   ]
  },
  {
   "cell_type": "code",
   "execution_count": null,
   "metadata": {},
   "outputs": [],
   "source": [
    "2 is an #integer\n",
    "\"Hello, World!\" is a #string\n",
    "The print statement also works for integers. We use the python command to start the interpreter.\n",
    "\n",
    "python\n",
    ">>> print(4)\n",
    "4\n",
    "# If you are not sure what type a value has, the interpreter can tell you.\n",
    "\n",
    ">>> type('Hello, World!')\n",
    "<class 'str'>\n",
    ">>> type(17)\n",
    "<class 'int'>\n",
    "#float\n",
    ">>> type(3.2)\n",
    "<class 'float'>"
   ]
  },
  {
   "cell_type": "markdown",
   "metadata": {},
   "source": [
    "## variables"
   ]
  },
  {
   "cell_type": "code",
   "execution_count": null,
   "metadata": {},
   "outputs": [],
   "source": [
    ">>> message = 'And now for something completely different'\n",
    ">>> n = 17\n",
    ">>> pi = 3.14159265358979\n",
    "\n",
    "## if you want to display the variable you can use a print stament\n",
    ">>> print(n)\n",
    "17\n",
    ">>> print(pi)\n",
    "3.141592653589793"
   ]
  }
 ],
 "metadata": {
  "kernelspec": {
   "display_name": "Python 3",
   "language": "python",
   "name": "python3"
  },
  "language_info": {
   "codemirror_mode": {
    "name": "ipython",
    "version": 3
   },
   "file_extension": ".py",
   "mimetype": "text/x-python",
   "name": "python",
   "nbconvert_exporter": "python",
   "pygments_lexer": "ipython3",
   "version": "3.6.8"
  }
 },
 "nbformat": 4,
 "nbformat_minor": 2
}
