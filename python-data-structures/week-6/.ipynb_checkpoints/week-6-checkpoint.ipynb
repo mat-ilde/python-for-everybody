{
 "cells": [
  {
   "cell_type": "markdown",
   "metadata": {},
   "source": [
    "## Tuples"
   ]
  },
  {
   "cell_type": "code",
   "execution_count": 2,
   "metadata": {},
   "outputs": [
    {
     "name": "stdout",
     "output_type": "stream",
     "text": [
      "1\n",
      "3\n"
     ]
    }
   ],
   "source": [
    "# tenemos que usar parèntesis antes y depuès del igual\n",
    "(x,y)=(1,3)\n",
    "print(x)\n",
    "print(y)"
   ]
  },
  {
   "cell_type": "markdown",
   "metadata": {},
   "source": [
    "## Tuples and dictionaries"
   ]
  },
  {
   "cell_type": "code",
   "execution_count": 4,
   "metadata": {},
   "outputs": [
    {
     "name": "stdout",
     "output_type": "stream",
     "text": [
      "sen 2\n",
      "wen 4\n",
      "dict_items([('sen', 2), ('wen', 4)])\n"
     ]
    }
   ],
   "source": [
    "d=dict()\n",
    "d[\"sen\"]=2\n",
    "d[\"wen\"]=4\n",
    "for (k,v)in d.items():\n",
    "    print(k,v)\n",
    "tups=d.items()\n",
    "print(tups)"
   ]
  },
  {
   "cell_type": "markdown",
   "metadata": {},
   "source": [
    "## Sorting list of tuples ordenando por las keys"
   ]
  },
  {
   "cell_type": "code",
   "execution_count": 11,
   "metadata": {},
   "outputs": [
    {
     "data": {
      "text/plain": [
       "[('a', 1), ('b', 3), ('c', 5)]"
      ]
     },
     "execution_count": 11,
     "metadata": {},
     "output_type": "execute_result"
    }
   ],
   "source": [
    "d=dict()\n",
    "d={\"b\":3,\"c\":5,\"a\":1}\n",
    "d.items()\n",
    "sorted(d.items())\n"
   ]
  },
  {
   "cell_type": "markdown",
   "metadata": {},
   "source": [
    "## Using sorted"
   ]
  },
  {
   "cell_type": "code",
   "execution_count": 13,
   "metadata": {},
   "outputs": [
    {
     "name": "stdout",
     "output_type": "stream",
     "text": [
      "a 1\n",
      "b 3\n",
      "c 5\n"
     ]
    }
   ],
   "source": [
    "d={\"b\":3,\"c\":5,\"a\":1}\n",
    "t=sorted(d.items())\n",
    "for (k,v)in sorted(d.items()):\n",
    "    print(k,v)"
   ]
  },
  {
   "cell_type": "markdown",
   "metadata": {},
   "source": [
    "## sorting tuples by values ordenando a partir de los valores"
   ]
  },
  {
   "cell_type": "code",
   "execution_count": 19,
   "metadata": {},
   "outputs": [
    {
     "name": "stdout",
     "output_type": "stream",
     "text": [
      "[(5, 'c'), (3, 'b'), (1, 'a')]\n"
     ]
    }
   ],
   "source": [
    "d={\"b\":3,\"c\":5,\"a\":1}\n",
    "tmp=list()\n",
    "for k,v in d.items():\n",
    "    tmp.append((v,k))\n",
    "                # reverse es para ordenar de mayor a menor por defecto es false para \n",
    "                # ordenarlo de menor a mayor\n",
    "tmp=sorted(tmp,reverse=True)\n",
    "print(tmp)"
   ]
  },
  {
   "cell_type": "markdown",
   "metadata": {},
   "source": [
    "## Example of chapter"
   ]
  },
  {
   "cell_type": "code",
   "execution_count": null,
   "metadata": {},
   "outputs": [],
   "source": [
    "# truco iniciaizar diccionario\n",
    "for word in words:\n",
    "    counts[word]=counts.get(word,0)+1"
   ]
  },
  {
   "cell_type": "code",
   "execution_count": 5,
   "metadata": {},
   "outputs": [
    {
     "name": "stdout",
     "output_type": "stream",
     "text": [
      "Enter your file: /home/mati/Escritorio/submitt_partners/my_data/mbox-short.txt\n",
      "{'stephen.marquard@uct.ac.za': 2, 'louis@media.berkeley.edu': 3, 'zqian@umich.edu': 4, 'rjlowe@iupui.edu': 2, 'cwen@iupui.edu': 5, 'gsilver@umich.edu': 3, 'wagnermr@iupui.edu': 1, 'antranig@caret.cam.ac.uk': 1, 'gopal.ramasammycook@gmail.com': 1, 'david.horwitz@uct.ac.za': 4, 'ray@media.berkeley.edu': 1}\n",
      "cwen@iupui.edu 5\n",
      "zqian@umich.edu 4\n",
      "david.horwitz@uct.ac.za 4\n",
      "louis@media.berkeley.edu 3\n",
      "gsilver@umich.edu 3\n",
      "stephen.marquard@uct.ac.za 2\n",
      "rjlowe@iupui.edu 2\n",
      "wagnermr@iupui.edu 1\n",
      "ray@media.berkeley.edu 1\n",
      "gopal.ramasammycook@gmail.com 1\n",
      "antranig@caret.cam.ac.uk 1\n"
     ]
    }
   ],
   "source": [
    "the_email=input(\"Enter your file: \")\n",
    "opening=open(the_email)\n",
    "reading=opening.readlines()\n",
    "count_emails=dict()\n",
    "for line in reading:\n",
    "    line=line.split(\" \")\n",
    "    if line[0]==\"From\":\n",
    "        email=line[1]\n",
    "        if email not in count_emails:\n",
    "            count_emails[email]=0#\n",
    "        count_emails[email]=count_emails[email]+1\n",
    "print(count_emails)\n",
    "lista=list()\n",
    "for key,value in count_emails.items():\n",
    "    new_tup=(value,key)\n",
    "    lista.append(new_tup)\n",
    "lista=sorted(lista,reverse=True)\n",
    "for value,key in lista:\n",
    "    print(key,value)"
   ]
  },
  {
   "cell_type": "markdown",
   "metadata": {},
   "source": [
    "## Final work"
   ]
  },
  {
   "cell_type": "markdown",
   "metadata": {},
   "source": [
    "## 10.2 Write a program to read through the mbox-short.txt and figure out the distribution by hour of the day for each of the messages. You can pull the hour out from the 'From ' line by finding the time and then splitting the string a second time using a colon.\n",
    "From stephen.marquard@uct.ac.za Sat Jan  5 09:14:16 2008\n",
    "Once you have accumulated the counts for each hour, print out the counts, sorted by hour as shown below."
   ]
  },
  {
   "cell_type": "code",
   "execution_count": null,
   "metadata": {},
   "outputs": [],
   "source": [
    "/home/mati/Escritorio/textos_descargados_coursera/my_data/mbox-short.txt"
   ]
  },
  {
   "cell_type": "code",
   "execution_count": 19,
   "metadata": {},
   "outputs": [
    {
     "name": "stdout",
     "output_type": "stream",
     "text": [
      "Enter your file/home/mati/Escritorio/submitt_partners/my_data/mbox-short.txt\n",
      "04 3\n",
      "06 1\n",
      "07 1\n",
      "09 2\n",
      "10 3\n",
      "11 6\n",
      "14 1\n",
      "15 2\n",
      "16 4\n",
      "17 2\n",
      "18 1\n",
      "19 1\n"
     ]
    }
   ],
   "source": [
    "the_file=input(\"Enter your file\")\n",
    "opening=open(the_file)\n",
    "reading=opening.readlines()\n",
    "count_hours=dict()\n",
    "for line in reading:\n",
    "    line=line.split(\" \")\n",
    "    if line[0]==\"From\":\n",
    "        date=line[6]\n",
    "        hour=date.split(\":\")\n",
    "        hour=hour[0]\n",
    "        if hour not in count_hours:\n",
    "            count_hours[hour]=0\n",
    "        count_hours[hour]=count_hours[hour]+1\n",
    "        sorting=sorted(count_hours.items())\n",
    "for (k,v) in sorted (count_hours.items()):\n",
    "    print(k,v)"
   ]
  }
 ],
 "metadata": {
  "kernelspec": {
   "display_name": "Python 3",
   "language": "python",
   "name": "python3"
  },
  "language_info": {
   "codemirror_mode": {
    "name": "ipython",
    "version": 3
   },
   "file_extension": ".py",
   "mimetype": "text/x-python",
   "name": "python",
   "nbconvert_exporter": "python",
   "pygments_lexer": "ipython3",
   "version": "3.6.8"
  }
 },
 "nbformat": 4,
 "nbformat_minor": 2
}
