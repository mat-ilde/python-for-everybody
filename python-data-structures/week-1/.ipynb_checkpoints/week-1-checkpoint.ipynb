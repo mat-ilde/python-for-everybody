{
 "cells": [
  {
   "cell_type": "markdown",
   "metadata": {},
   "source": [
    "## Remembering"
   ]
  },
  {
   "cell_type": "code",
   "execution_count": 9,
   "metadata": {},
   "outputs": [
    {
     "name": "stdout",
     "output_type": "stream",
     "text": [
      "1 b\n",
      "2 a\n",
      "3 n\n",
      "4 a\n",
      "5 n\n",
      "6 a\n"
     ]
    }
   ],
   "source": [
    "#loops\n",
    "fruit=\"banana\"\n",
    "index=0\n",
    "while index<len(fruit):\n",
    "    letter=fruit[index]\n",
    "    index=index+1\n",
    "    print(index,letter)"
   ]
  },
  {
   "cell_type": "code",
   "execution_count": 1,
   "metadata": {},
   "outputs": [
    {
     "name": "stdout",
     "output_type": "stream",
     "text": [
      "1 p\n",
      "2 e\n",
      "3 r\n",
      "4 r\n",
      "5 o\n"
     ]
    }
   ],
   "source": [
    "#loops\n",
    "amigo=\"perro\"\n",
    "conteo=0\n",
    "while conteo<len(amigo):\n",
    "    letter=amigo[conteo]\n",
    "    conteo=conteo+1\n",
    "    print(conteo,letter)"
   ]
  },
  {
   "cell_type": "code",
   "execution_count": 4,
   "metadata": {},
   "outputs": [
    {
     "name": "stdout",
     "output_type": "stream",
     "text": [
      "b\n",
      "a\n",
      "n\n",
      "a\n",
      "n\n",
      "a\n"
     ]
    }
   ],
   "source": [
    "#using for\n",
    "fruit=\"banana\"\n",
    "for letter in fruit:\n",
    "    print(letter)"
   ]
  },
  {
   "cell_type": "code",
   "execution_count": 1,
   "metadata": {},
   "outputs": [
    {
     "name": "stdout",
     "output_type": "stream",
     "text": [
      "Pegue o escriba aqui su texto:alcanzar\n",
      "1\n",
      "2\n",
      "3\n"
     ]
    }
   ],
   "source": [
    "#looping and counting\n",
    "word=input((\"Pegue o escriba aqui su texto:\"))\n",
    "count=0\n",
    "for letter in word:\n",
    "    if letter==\"a\":\n",
    "        count=count+1\n",
    "        print(count)\n"
   ]
  },
  {
   "cell_type": "markdown",
   "metadata": {},
   "source": [
    "## addition of all numbers inside a tuple"
   ]
  },
  {
   "cell_type": "code",
   "execution_count": 1,
   "metadata": {},
   "outputs": [
    {
     "name": "stdout",
     "output_type": "stream",
     "text": [
      "6\n"
     ]
    }
   ],
   "source": [
    "tupla=(1,2,3)\n",
    "addition=1\n",
    "for number in tupla:\n",
    "    addition=addition*number\n",
    "print(addition)"
   ]
  },
  {
   "cell_type": "markdown",
   "metadata": {},
   "source": [
    "## Manipulating strings"
   ]
  },
  {
   "cell_type": "code",
   "execution_count": 8,
   "metadata": {},
   "outputs": [
    {
     "name": "stdout",
     "output_type": "stream",
     "text": [
      "Hello Friends\n"
     ]
    }
   ],
   "source": [
    "# concatenig strings\n",
    "a=\"Hello\"\n",
    "b=\"Friends\"\n",
    "c=a+\" \"+b\n",
    "print(c)"
   ]
  },
  {
   "cell_type": "markdown",
   "metadata": {},
   "source": [
    "## using in as logical operator"
   ]
  },
  {
   "cell_type": "code",
   "execution_count": 11,
   "metadata": {},
   "outputs": [
    {
     "data": {
      "text/plain": [
       "True"
      ]
     },
     "execution_count": 11,
     "metadata": {},
     "output_type": "execute_result"
    }
   ],
   "source": [
    "# remember that is a stings and put \"\" in the word\n",
    "fruit=\"banana\"\n",
    "# this form return true or false\n",
    "\"n\"in fruit"
   ]
  },
  {
   "cell_type": "markdown",
   "metadata": {},
   "source": [
    "## strings library \"lower case\" and \"uppercase\""
   ]
  },
  {
   "cell_type": "code",
   "execution_count": 16,
   "metadata": {},
   "outputs": [
    {
     "name": "stdout",
     "output_type": "stream",
     "text": [
      "hello world\n",
      "hello world\n",
      "hi there\n"
     ]
    }
   ],
   "source": [
    "greet=\"hello world\"\n",
    "zap=greet.lower()\n",
    "print(greet)\n",
    "print(zap)\n",
    "print(\"Hi therE\".lower())"
   ]
  },
  {
   "cell_type": "code",
   "execution_count": 22,
   "metadata": {},
   "outputs": [
    {
     "name": "stdout",
     "output_type": "stream",
     "text": [
      "hello world\n",
      "HELLO WORLD\n",
      "HI THERE\n"
     ]
    }
   ],
   "source": [
    "greet=\"hello world\"\n",
    "zap=greet.upper()\n",
    "print(greet)\n",
    "print(zap)\n",
    "print(\"hi there\".upper())"
   ]
  },
  {
   "cell_type": "markdown",
   "metadata": {},
   "source": [
    "## searching a strings using \".find\""
   ]
  },
  {
   "cell_type": "code",
   "execution_count": 21,
   "metadata": {},
   "outputs": [
    {
     "name": "stdout",
     "output_type": "stream",
     "text": [
      "2\n",
      "-1\n"
     ]
    }
   ],
   "source": [
    "fruit=\"banana\"\n",
    "pos=fruit.find(\"na\")\n",
    "print(pos)\n",
    "zas=fruit.find(\"ma\")\n",
    "# my second print is -1 because there is not \"ma\"\n",
    "print(zas)"
   ]
  },
  {
   "cell_type": "markdown",
   "metadata": {},
   "source": [
    "## search and replace function"
   ]
  },
  {
   "cell_type": "code",
   "execution_count": 25,
   "metadata": {},
   "outputs": [
    {
     "name": "stdout",
     "output_type": "stream",
     "text": [
      "hello vida\n",
      "hellx mati\n"
     ]
    }
   ],
   "source": [
    "word=\"hello mati\"\n",
    "new_word=word.replace(\"mati\",\"vida\")\n",
    "print(new_word)\n",
    "new_word2=word.replace(\"o\",\"x\")\n",
    "print(new_word2)"
   ]
  },
  {
   "cell_type": "markdown",
   "metadata": {},
   "source": [
    "## stripping white spaces using \"lstripi(), rstripi() and strip()"
   ]
  },
  {
   "cell_type": "code",
   "execution_count": 3,
   "metadata": {},
   "outputs": [
    {
     "name": "stdout",
     "output_type": "stream",
     "text": [
      "   hombre  \n",
      "   hombre  \n",
      "   hombre  \n"
     ]
    }
   ],
   "source": [
    "man=\"   hombre  \"\n",
    "man.rstrip()\n",
    "print(man)\n",
    "man.lstrip()\n",
    "print(man)\n",
    "man.strip()\n",
    "print(man)\n",
    "\n"
   ]
  },
  {
   "cell_type": "code",
   "execution_count": 5,
   "metadata": {},
   "outputs": [
    {
     "name": "stdout",
     "output_type": "stream",
     "text": [
      "   hombre  \n"
     ]
    }
   ],
   "source": [
    "man.lstrip()\n",
    "print(man)"
   ]
  },
  {
   "cell_type": "code",
   "execution_count": 4,
   "metadata": {},
   "outputs": [
    {
     "name": "stdout",
     "output_type": "stream",
     "text": [
      "   hombre  \n"
     ]
    }
   ],
   "source": [
    "man.rstrip()\n",
    "print(man)"
   ]
  }
 ],
 "metadata": {
  "kernelspec": {
   "display_name": "Python 3",
   "language": "python",
   "name": "python3"
  },
  "language_info": {
   "codemirror_mode": {
    "name": "ipython",
    "version": 3
   },
   "file_extension": ".py",
   "mimetype": "text/x-python",
   "name": "python",
   "nbconvert_exporter": "python",
   "pygments_lexer": "ipython3",
   "version": "3.6.8"
  }
 },
 "nbformat": 4,
 "nbformat_minor": 2
}
