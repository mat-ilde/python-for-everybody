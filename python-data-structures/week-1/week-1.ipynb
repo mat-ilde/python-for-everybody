{
 "cells": [
  {
   "cell_type": "markdown",
   "metadata": {},
   "source": [
    "## Remembering"
   ]
  },
  {
   "cell_type": "code",
   "execution_count": 6,
   "metadata": {},
   "outputs": [
    {
     "name": "stdout",
     "output_type": "stream",
     "text": [
      "1 b\n",
      "2 a\n",
      "3 n\n",
      "4 a\n",
      "5 n\n",
      "6 a\n"
     ]
    }
   ],
   "source": [
    "#loops\n",
    "fruit=\"banana\"\n",
    "index=0\n",
    "while index<len(fruit):\n",
    "                # using index we can iterate inside of the word, letter by letter.\n",
    "    letter=fruit[index]\n",
    "    # here we go accumulating the numbers of letter in each iteration.\n",
    "    index=index+1\n",
    "    print(index,letter)"
   ]
  },
  {
   "cell_type": "code",
   "execution_count": 1,
   "metadata": {},
   "outputs": [
    {
     "name": "stdout",
     "output_type": "stream",
     "text": [
      "1 p\n",
      "2 e\n",
      "3 r\n",
      "4 r\n",
      "5 o\n"
     ]
    }
   ],
   "source": [
    "# another example of the same.\n",
    "#loops\n",
    "amigo=\"perro\"\n",
    "conteo=0\n",
    "# to use while we need use a condition for a loop.\n",
    "while conteo<len(amigo):\n",
    "    letter=amigo[conteo]\n",
    "    conteo=conteo+1\n",
    "    print(conteo,letter)"
   ]
  },
  {
   "cell_type": "code",
   "execution_count": 4,
   "metadata": {},
   "outputs": [
    {
     "name": "stdout",
     "output_type": "stream",
     "text": [
      "b\n",
      "a\n",
      "n\n",
      "a\n",
      "n\n",
      "a\n"
     ]
    }
   ],
   "source": [
    "#using for\n",
    "# to use for we not need a condition like using while.\n",
    "fruit=\"banana\"\n",
    "for letter in fruit:\n",
    "    print(letter)"
   ]
  },
  {
   "cell_type": "code",
   "execution_count": 1,
   "metadata": {},
   "outputs": [
    {
     "name": "stdout",
     "output_type": "stream",
     "text": [
      "Pegue o escriba aqui su texto:alcanzar\n",
      "1\n",
      "2\n",
      "3\n"
     ]
    }
   ],
   "source": [
    "#looping and counting\n",
    "# this way we can count the numbers of letter or letters.\n",
    "word=input((\"Pegue o escriba aqui su texto:\"))\n",
    "count=0\n",
    "for letter in word:\n",
    "    if letter==\"a\":\n",
    "        count=count+1\n",
    "        print(count)\n"
   ]
  },
  {
   "cell_type": "markdown",
   "metadata": {},
   "source": [
    "## Multiplication of all numbers inside a tuple"
   ]
  },
  {
   "cell_type": "code",
   "execution_count": 1,
   "metadata": {},
   "outputs": [
    {
     "name": "stdout",
     "output_type": "stream",
     "text": [
      "6\n"
     ]
    }
   ],
   "source": [
    "tupla=(1,2,3)\n",
    "# we inicialize a variable in 1, is where we go accumulating the multiplication.\n",
    "addition=1\n",
    "for number in tupla:\n",
    "    # in this loop we multilpy the numbers inside of the tuple using \"*\"\n",
    "    addition=addition*number\n",
    "print(addition)"
   ]
  },
  {
   "cell_type": "markdown",
   "metadata": {},
   "source": [
    "## Manipulating strings"
   ]
  },
  {
   "cell_type": "code",
   "execution_count": 8,
   "metadata": {},
   "outputs": [
    {
     "name": "stdout",
     "output_type": "stream",
     "text": [
      "Hello Friends\n"
     ]
    }
   ],
   "source": [
    "# concatenig strings\n",
    "a=\"Hello\"\n",
    "b=\"Friends\"\n",
    "c=a+\" \"+b\n",
    "print(c)"
   ]
  },
  {
   "cell_type": "markdown",
   "metadata": {},
   "source": [
    "## Using in as logical operator"
   ]
  },
  {
   "cell_type": "code",
   "execution_count": 8,
   "metadata": {},
   "outputs": [
    {
     "data": {
      "text/plain": [
       "True"
      ]
     },
     "execution_count": 8,
     "metadata": {},
     "output_type": "execute_result"
    }
   ],
   "source": [
    "# this way we can look for inside of a word if has or not a letter.\n",
    "fruit=\"banana\"\n",
    "# this form return true or false\n",
    "\"n\"in fruit"
   ]
  },
  {
   "cell_type": "markdown",
   "metadata": {},
   "source": [
    "## Strings library \"lower case\" and \"uppercase\""
   ]
  },
  {
   "cell_type": "code",
   "execution_count": 9,
   "metadata": {},
   "outputs": [
    {
     "name": "stdout",
     "output_type": "stream",
     "text": [
      "hello world\n",
      "HELLO WORLD\n",
      "hi there\n"
     ]
    }
   ],
   "source": [
    "greet=\"hello world\"\n",
    "# by using upper we can convert from the lower case to capital letter.\n",
    "zap=greet.upper()\n",
    "print(greet)\n",
    "print(zap)\n",
    "# we can modify directly in the print.\n",
    "print(\"Hi therE\".lower())"
   ]
  },
  {
   "cell_type": "markdown",
   "metadata": {},
   "source": [
    "## searching a strings using \".find\""
   ]
  },
  {
   "cell_type": "code",
   "execution_count": 10,
   "metadata": {},
   "outputs": [
    {
     "name": "stdout",
     "output_type": "stream",
     "text": [
      "2\n",
      "-1\n"
     ]
    }
   ],
   "source": [
    "fruit=\"banana\"\n",
    "# using \"find\" we can look for inside of the word or text.\n",
    "#specify what do you want to find.\n",
    "pos=fruit.find(\"na\")\n",
    "print(pos)\n",
    "zas=fruit.find(\"ma\")\n",
    "# my second print is -1 because there is not \"ma\"\n",
    "print(zas)"
   ]
  },
  {
   "cell_type": "markdown",
   "metadata": {},
   "source": [
    "## search and replace function"
   ]
  },
  {
   "cell_type": "code",
   "execution_count": 11,
   "metadata": {},
   "outputs": [
    {
     "name": "stdout",
     "output_type": "stream",
     "text": [
      "hello vida\n",
      "hellx mati\n"
     ]
    }
   ],
   "source": [
    "word=\"hello mati\"\n",
    "# using replace we can change the letter \"mati\" by \"vida\".\n",
    "new_word=word.replace(\"mati\",\"vida\")\n",
    "print(new_word)\n",
    "# or specify a word what we want change.\n",
    "new_word2=word.replace(\"o\",\"x\")\n",
    "print(new_word2)"
   ]
  },
  {
   "cell_type": "markdown",
   "metadata": {},
   "source": [
    "## stripping white spaces using \"lstrip(), rstrip() and strip()"
   ]
  },
  {
   "cell_type": "code",
   "execution_count": 14,
   "metadata": {},
   "outputs": [
    {
     "name": "stdout",
     "output_type": "stream",
     "text": [
      "    hombre     \n",
      "hombre     \n",
      "    hombre\n",
      "hombre\n"
     ]
    }
   ],
   "source": [
    "# we use a variable of type string with spaces to play wit that.\n",
    "man=\"    hombre     \"\n",
    "# this the original word\n",
    "print(man)\n",
    "# \"lstrip\" is for move the string to the left, we need to call the all the new spaces in a variable\n",
    "man_1=man.lstrip()\n",
    "print(man_1)\n",
    "# \"rstrip\" is for move the string to the right\n",
    "man_2=man.rstrip()\n",
    "print(man_2)\n",
    "#\"strip\" is for to centralize\n",
    "man_3=man.strip()\n",
    "print(man_3)\n",
    "\n"
   ]
  },
  {
   "cell_type": "code",
   "execution_count": 20,
   "metadata": {},
   "outputs": [
    {
     "data": {
      "text/plain": [
       "True"
      ]
     },
     "execution_count": 20,
     "metadata": {},
     "output_type": "execute_result"
    }
   ],
   "source": [
    "# in this case we can look for inside pf a string using another form.\n",
    "# the object \"startswith\" this word will search the string which begin for the letter or,\n",
    "# word what we want look for.\n",
    "# and the output will be True or False, using python show us the output.\n",
    "line=\"please have a nice day\"\n",
    "line.startswith(\"please\")\n",
    "\n"
   ]
  },
  {
   "cell_type": "code",
   "execution_count": 22,
   "metadata": {},
   "outputs": [
    {
     "name": "stdout",
     "output_type": "stream",
     "text": [
      "True\n"
     ]
    }
   ],
   "source": [
    "# but i think that always is recommend save in a variable.\n",
    "line=\"please have a nice day\"\n",
    "the_word=line.startswith(\"please\")\n",
    "print(the_word)"
   ]
  },
  {
   "cell_type": "markdown",
   "metadata": {},
   "source": [
    "## Parsing and Extracting"
   ]
  },
  {
   "cell_type": "code",
   "execution_count": 23,
   "metadata": {},
   "outputs": [
    {
     "name": "stdout",
     "output_type": "stream",
     "text": [
      "0\n",
      "4\n",
      "r\n",
      "rom\n"
     ]
    }
   ],
   "source": [
    "data= \"from banana.watermelon123@melon1.2.3 sat jan 5 12:55:30 2008\"\n",
    "atpos=data.find(\"f\")\n",
    "print(atpos)\n",
    "#here im looking for a space is in the position 4\n",
    "sposs=data.find(\" \")\n",
    "# this print will show us a position of the space.\n",
    "print(sposs)\n",
    "#adding +1 i will found the next letter\n",
    "host=data[atpos+1]\n",
    "print(host)\n",
    "# in this case should print from \"r\" to the space\n",
    "# because we specify using [] \":\"= to \n",
    "host_2=data[atpos+1:sposs]\n",
    "print(host_2)"
   ]
  },
  {
   "cell_type": "markdown",
   "metadata": {},
   "source": [
    "## 6.5 Write code using find() and string slicing , to extract the number at the end of the line below. Convert the extracted value to a floating point number and print it out.\n"
   ]
  },
  {
   "cell_type": "code",
   "execution_count": 49,
   "metadata": {},
   "outputs": [
    {
     "name": "stdout",
     "output_type": "stream",
     "text": [
      "0.8475\n"
     ]
    }
   ],
   "source": [
    "text = \"X-DSPAM-Confidence:    0.8475\"\n",
    "found_begin=text.find(\" \")\n",
    "found_end=text.find(\"5\")\n",
    "text_2=text[found_begin:found_end+1]\n",
    "text_2=float(text_2)\n",
    "print(text_2)\n"
   ]
  }
 ],
 "metadata": {
  "kernelspec": {
   "display_name": "Python 3",
   "language": "python",
   "name": "python3"
  },
  "language_info": {
   "codemirror_mode": {
    "name": "ipython",
    "version": 3
   },
   "file_extension": ".py",
   "mimetype": "text/x-python",
   "name": "python",
   "nbconvert_exporter": "python",
   "pygments_lexer": "ipython3",
   "version": "3.6.8"
  }
 },
 "nbformat": 4,
 "nbformat_minor": 2
}
