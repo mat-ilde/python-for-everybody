{
 "cells": [
  {
   "cell_type": "markdown",
   "metadata": {},
   "source": [
    "## Remembering"
   ]
  },
  {
   "cell_type": "code",
   "execution_count": 9,
   "metadata": {},
   "outputs": [
    {
     "name": "stdout",
     "output_type": "stream",
     "text": [
      "1 b\n",
      "2 a\n",
      "3 n\n",
      "4 a\n",
      "5 n\n",
      "6 a\n"
     ]
    }
   ],
   "source": [
    "#loops\n",
    "fruit=\"banana\"\n",
    "index=0\n",
    "while index<len(fruit):\n",
    "    letter=fruit[index]\n",
    "    index=index+1\n",
    "    print(index,letter)"
   ]
  },
  {
   "cell_type": "code",
   "execution_count": 1,
   "metadata": {},
   "outputs": [
    {
     "name": "stdout",
     "output_type": "stream",
     "text": [
      "1 p\n",
      "2 e\n",
      "3 r\n",
      "4 r\n",
      "5 o\n"
     ]
    }
   ],
   "source": [
    "#loops\n",
    "amigo=\"perro\"\n",
    "conteo=0\n",
    "while conteo<len(amigo):\n",
    "    letter=amigo[conteo]\n",
    "    conteo=conteo+1\n",
    "    print(conteo,letter)"
   ]
  },
  {
   "cell_type": "code",
   "execution_count": 4,
   "metadata": {},
   "outputs": [
    {
     "name": "stdout",
     "output_type": "stream",
     "text": [
      "b\n",
      "a\n",
      "n\n",
      "a\n",
      "n\n",
      "a\n"
     ]
    }
   ],
   "source": [
    "#using for\n",
    "fruit=\"banana\"\n",
    "for letter in fruit:\n",
    "    print(letter)"
   ]
  },
  {
   "cell_type": "code",
   "execution_count": 1,
   "metadata": {},
   "outputs": [
    {
     "name": "stdout",
     "output_type": "stream",
     "text": [
      "Pegue o escriba aqui su texto:alcanzar\n",
      "1\n",
      "2\n",
      "3\n"
     ]
    }
   ],
   "source": [
    "#looping and counting\n",
    "word=input((\"Pegue o escriba aqui su texto:\"))\n",
    "count=0\n",
    "for letter in word:\n",
    "    if letter==\"a\":\n",
    "        count=count+1\n",
    "        print(count)\n"
   ]
  },
  {
   "cell_type": "markdown",
   "metadata": {},
   "source": [
    "## addition of all numbers inside a tuple"
   ]
  },
  {
   "cell_type": "code",
   "execution_count": 3,
   "metadata": {},
   "outputs": [
    {
     "name": "stdout",
     "output_type": "stream",
     "text": [
      "6\n"
     ]
    }
   ],
   "source": [
    "tupla=(1,2,3)\n",
    "producto=1\n",
    "for number in tupla:\n",
    "    producto=producto*number\n",
    "print(producto)"
   ]
  },
  {
   "cell_type": "code",
   "execution_count": null,
   "metadata": {},
   "outputs": [],
   "source": []
  }
 ],
 "metadata": {
  "kernelspec": {
   "display_name": "Python 3",
   "language": "python",
   "name": "python3"
  },
  "language_info": {
   "codemirror_mode": {
    "name": "ipython",
    "version": 3
   },
   "file_extension": ".py",
   "mimetype": "text/x-python",
   "name": "python",
   "nbconvert_exporter": "python",
   "pygments_lexer": "ipython3",
   "version": "3.6.8"
  }
 },
 "nbformat": 4,
 "nbformat_minor": 2
}
