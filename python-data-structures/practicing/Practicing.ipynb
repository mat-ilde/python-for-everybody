{
 "cells": [
  {
   "cell_type": "markdown",
   "metadata": {},
   "source": [
    "## 1. Write a Python script to sort (ascending and descending) a dictionary by value. \n",
    "\n"
   ]
  },
  {
   "cell_type": "code",
   "execution_count": 44,
   "metadata": {},
   "outputs": [
    {
     "name": "stdout",
     "output_type": "stream",
     "text": [
      "[(12.5, '3'), (25.0, '2'), (44.8, '1'), (120.5, '4')]\n"
     ]
    }
   ],
   "source": [
    "tables={\"3\":12.50,\"1\":44.80,\"4\":120.50,\"2\":25.00}\n",
    "value=list()\n",
    "#organizado por valores ascendente\n",
    "for k,v in tables.items():\n",
    "    value.append((v,k))\n",
    "value=sorted(value,reverse=False)\n",
    "print(value)\n"
   ]
  },
  {
   "cell_type": "code",
   "execution_count": 46,
   "metadata": {},
   "outputs": [
    {
     "name": "stdout",
     "output_type": "stream",
     "text": [
      "[(120.5, '4'), (44.8, '1'), (25.0, '2'), (12.5, '3')]\n"
     ]
    }
   ],
   "source": [
    "tables={\"3\":12.50,\"1\":44.80,\"4\":120.50,\"2\":25.00}\n",
    "new_value=list()\n",
    "#organizado por valores descendentes\n",
    "for i,j in tables.items():\n",
    "    new_value.append((j,i))\n",
    "new_value=sorted(new_value,reverse=True)\n",
    "print(new_value)\n"
   ]
  },
  {
   "cell_type": "markdown",
   "metadata": {},
   "source": [
    "## 2. Write a Python script to add a key to a dictionary. \n",
    "\n",
    "Sample Dictionary : {0: 10, 1: 20}\n",
    "Expected Result : {0: 10, 1: 20, 2: 30}"
   ]
  },
  {
   "cell_type": "code",
   "execution_count": 15,
   "metadata": {},
   "outputs": [],
   "source": [
    "# we create a dict with the elements\n",
    "t={0: 10, 1: 20} "
   ]
  },
  {
   "cell_type": "code",
   "execution_count": 19,
   "metadata": {},
   "outputs": [],
   "source": [
    "# with this form we agree a new element\n",
    "t[2]=30"
   ]
  },
  {
   "cell_type": "code",
   "execution_count": 20,
   "metadata": {},
   "outputs": [
    {
     "name": "stdout",
     "output_type": "stream",
     "text": [
      "{0: 10, 1: 20, 2: 30}\n"
     ]
    }
   ],
   "source": [
    "# this is our new dict.\n",
    "print(t)"
   ]
  },
  {
   "cell_type": "markdown",
   "metadata": {},
   "source": [
    "## looking for duplicates."
   ]
  },
  {
   "cell_type": "code",
   "execution_count": null,
   "metadata": {},
   "outputs": [],
   "source": [
    "#With this algorithm I try to see if,there is a repeated number in my list,using True or False"
   ]
  },
  {
   "cell_type": "code",
   "execution_count": 1,
   "metadata": {},
   "outputs": [
    {
     "data": {
      "text/plain": [
       "True"
      ]
     },
     "execution_count": 1,
     "metadata": {},
     "output_type": "execute_result"
    }
   ],
   "source": [
    "def has_duplicates(list_of_number):\n",
    "    for i,number_1 in enumerate (list_of_number):\n",
    "        for j,number_2 in enumerate (list_of_number):\n",
    "            if number_1==number_2 and i!=j:\n",
    "                return True\n",
    "    return False\n",
    "# an example \n",
    "list_of_number=[1,2,4,5,1,7,1]\n",
    "has_duplicates(list_of_number)\n",
    "    \n"
   ]
  },
  {
   "cell_type": "code",
   "execution_count": 6,
   "metadata": {},
   "outputs": [
    {
     "data": {
      "text/plain": [
       "False"
      ]
     },
     "execution_count": 6,
     "metadata": {},
     "output_type": "execute_result"
    }
   ],
   "source": [
    "# using another list where there is not a repeated number, the result is False.\n",
    "list_of_number=[1,2,4,5,7]\n",
    "has_duplicates(list_of_number)"
   ]
  },
  {
   "cell_type": "code",
   "execution_count": 5,
   "metadata": {},
   "outputs": [
    {
     "name": "stdout",
     "output_type": "stream",
     "text": [
      "0\n",
      "hola\n",
      "1\n",
      "adios\n",
      "2\n",
      "que tal\n"
     ]
    }
   ],
   "source": [
    "# im using an example de enumerate.\n",
    "# enumerate say me the index for each element.\n",
    "lista_1 = [\"hola\",\"adios\",\"que tal\"]\n",
    "for i,palabra in enumerate(lista_1):\n",
    "    print(i)\n",
    "    print(palabra)"
   ]
  }
 ],
 "metadata": {
  "kernelspec": {
   "display_name": "Python 3",
   "language": "python",
   "name": "python3"
  },
  "language_info": {
   "codemirror_mode": {
    "name": "ipython",
    "version": 3
   },
   "file_extension": ".py",
   "mimetype": "text/x-python",
   "name": "python",
   "nbconvert_exporter": "python",
   "pygments_lexer": "ipython3",
   "version": "3.6.8"
  }
 },
 "nbformat": 4,
 "nbformat_minor": 2
}
