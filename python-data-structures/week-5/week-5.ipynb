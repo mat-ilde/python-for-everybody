{
 "cells": [
  {
   "cell_type": "markdown",
   "metadata": {},
   "source": [
    "## Dictionaries"
   ]
  },
  {
   "cell_type": "code",
   "execution_count": 3,
   "metadata": {},
   "outputs": [
    {
     "name": "stdout",
     "output_type": "stream",
     "text": [
      "{'money': 12, 'candy': 3, 'tissues': 75}\n",
      "5\n"
     ]
    }
   ],
   "source": [
    "purse=dict()\n",
    "purse[\"money\"]=12\n",
    "purse[\"candy\"]=3\n",
    "purse[\"tissues\"]=75\n",
    "print(purse)\n",
    "print(purse[\"candy\"]+2)"
   ]
  },
  {
   "cell_type": "markdown",
   "metadata": {},
   "source": [
    "## when we see a new name"
   ]
  },
  {
   "cell_type": "code",
   "execution_count": 2,
   "metadata": {},
   "outputs": [
    {
     "name": "stdout",
     "output_type": "stream",
     "text": [
      "{'Juanita': 1, 'Andrea': 1, 'Belèn': 1, 'Ana': 1, 'Alfredo': 1}\n"
     ]
    }
   ],
   "source": [
    "counts=dict()\n",
    "names=[\"Juanita\",\"Andrea\",\"Belèn\",\"Ana\",\"Alfredo\"]\n",
    "for name in names:\n",
    "    if name not in counts:\n",
    "        counts[name]=1\n",
    "    else:\n",
    "        counts[name]=count[name]+1\n",
    "print(counts)"
   ]
  },
  {
   "cell_type": "markdown",
   "metadata": {},
   "source": [
    "## to \"Get\" method for dictionaries"
   ]
  },
  {
   "cell_type": "code",
   "execution_count": 4,
   "metadata": {},
   "outputs": [
    {
     "name": "stdout",
     "output_type": "stream",
     "text": [
      "1\n"
     ]
    }
   ],
   "source": [
    "if name in counts:\n",
    "    x=counts[name]\n",
    "else:\n",
    "    x=0\n",
    "    \n",
    "x=counts.get(name,0)\n"
   ]
  },
  {
   "cell_type": "markdown",
   "metadata": {},
   "source": [
    "## simplified counting with Get"
   ]
  },
  {
   "cell_type": "code",
   "execution_count": 5,
   "metadata": {},
   "outputs": [
    {
     "name": "stdout",
     "output_type": "stream",
     "text": [
      "{'Juanita': 1, 'Andrea': 1, 'Belèn': 1, 'Ana': 1, 'Alfredo': 1}\n"
     ]
    }
   ],
   "source": [
    "counts=dict()\n",
    "names=[\"Juanita\",\"Andrea\",\"Belèn\",\"Ana\",\"Alfredo\"]\n",
    "for name in names:\n",
    "    if name not in counts:\n",
    "        counts[name]=counts.get(name,0)+1\n",
    "print(counts)"
   ]
  },
  {
   "cell_type": "markdown",
   "metadata": {},
   "source": [
    "## counting pattern"
   ]
  },
  {
   "cell_type": "code",
   "execution_count": 4,
   "metadata": {},
   "outputs": [
    {
     "name": "stdout",
     "output_type": "stream",
     "text": [
      "Enter a line of text: \n",
      "maria va la playa con su familia\n",
      "words: ['maria', 'va', 'la', 'playa', 'con', 'su', 'familia']\n",
      "counting...\n",
      "counts {'maria': 1}\n",
      "counts {'maria': 1, 'va': 1}\n",
      "counts {'maria': 1, 'va': 1, 'la': 1}\n",
      "counts {'maria': 1, 'va': 1, 'la': 1, 'playa': 1}\n",
      "counts {'maria': 1, 'va': 1, 'la': 1, 'playa': 1, 'con': 1}\n",
      "counts {'maria': 1, 'va': 1, 'la': 1, 'playa': 1, 'con': 1, 'su': 1}\n",
      "counts {'maria': 1, 'va': 1, 'la': 1, 'playa': 1, 'con': 1, 'su': 1, 'familia': 1}\n"
     ]
    }
   ],
   "source": [
    "counts=dict()\n",
    "print(\"Enter a line of text: \")\n",
    "line=input(\"\")\n",
    "words=line.split()\n",
    "print(\"words:\" ,words)\n",
    "print(\"counting...\")\n",
    "for word in words:\n",
    "    counts[word]=counts.get(word,0)+1\n",
    "    print(\"counts\",counts)"
   ]
  },
  {
   "cell_type": "markdown",
   "metadata": {},
   "source": [
    "# Definite loops and dictionary"
   ]
  },
  {
   "cell_type": "code",
   "execution_count": 3,
   "metadata": {},
   "outputs": [
    {
     "name": "stdout",
     "output_type": "stream",
     "text": [
      "Juanita 1\n",
      "Andrea 2\n",
      "Belèn 3\n",
      "Ana 4\n",
      "Alfredo 5\n"
     ]
    }
   ],
   "source": [
    "counts={\"Juanita\":1,\"Andrea\":2,\"Belèn\":3,\"Ana\":4,\"Alfredo\":5}\n",
    "# key es a lo q se le da valor \n",
    "for key in counts:\n",
    "    print(key, counts[key])"
   ]
  },
  {
   "cell_type": "markdown",
   "metadata": {},
   "source": [
    "## Retrieving list keys and values"
   ]
  },
  {
   "cell_type": "code",
   "execution_count": 10,
   "metadata": {},
   "outputs": [
    {
     "name": "stdout",
     "output_type": "stream",
     "text": [
      "['Juanita', 'Andrea', 'Belèn', 'Ana', 'Alfredo']\n",
      "dict_keys(['Juanita', 'Andrea', 'Belèn', 'Ana', 'Alfredo'])\n",
      "dict_values([1, 2, 3, 4, 5])\n",
      "dict_items([('Juanita', 1), ('Andrea', 2), ('Belèn', 3), ('Ana', 4), ('Alfredo', 5)])\n"
     ]
    }
   ],
   "source": [
    "jj={\"Juanita\":1,\"Andrea\":2,\"Belèn\":3,\"Ana\":4,\"Alfredo\":5}\n",
    "print(list(jj))\n",
    "print(jj.keys())\n",
    "print(jj.values())\n",
    "print(jj.items())\n"
   ]
  },
  {
   "cell_type": "markdown",
   "metadata": {},
   "source": [
    "## Two iterations variables"
   ]
  },
  {
   "cell_type": "code",
   "execution_count": 15,
   "metadata": {},
   "outputs": [
    {
     "name": "stdout",
     "output_type": "stream",
     "text": [
      "Juanita 1\n",
      "Andrea 2\n",
      "Belèn 3\n",
      "Ana 4\n",
      "Alfredo 5\n"
     ]
    }
   ],
   "source": [
    "jj={\"Juanita\":1,\"Andrea\":2,\"Belèn\":3,\"Ana\":4,\"Alfredo\":5}\n",
    "for aa,bb in jj.items():\n",
    "    print(aa,bb)\n",
    "# aa=keys bb=values"
   ]
  },
  {
   "cell_type": "markdown",
   "metadata": {},
   "source": [
    "## Final work "
   ]
  },
  {
   "cell_type": "markdown",
   "metadata": {},
   "source": [
    "## 9.4 Write a program to read through the mbox-short.txt and figure out who has sent the greatest number of mail messages. The program looks for 'From ' lines and takes the second word of those lines as the person who sent the mail. The program creates a Python dictionary that maps the sender's mail address to a count of the number of times they appear in the file. After the dictionary is produced, the program reads through the dictionary using a maximum loop to find the most prolific committer"
   ]
  },
  {
   "cell_type": "code",
   "execution_count": 5,
   "metadata": {},
   "outputs": [],
   "source": [
    "#/home/mati/Escritorio/textos_descargados_coursera/my_data/mbox-short.txt"
   ]
  },
  {
   "cell_type": "code",
   "execution_count": 3,
   "metadata": {
    "scrolled": false
   },
   "outputs": [
    {
     "name": "stdout",
     "output_type": "stream",
     "text": [
      "Enter your file/home/mati/Escritorio/submitt_partners/my_data/mbox-short.txt\n",
      "cwen@iupui.edu 5\n"
     ]
    }
   ],
   "source": [
    "# el usuario ingresa su fichero\n",
    "the_mail=input(\"Enter your file\")\n",
    "# yo abrirè el fichero\n",
    "opening=open(the_mail)\n",
    "# me devolverà una lista de strings,donde cada elemento es una linea del fichero\n",
    "reading_lines=opening.readlines()\n",
    "count_emails=dict()\n",
    "#cada linea es un string de la lista\n",
    "for line in reading_lines:\n",
    "    line=line.split(\" \")\n",
    "    if line[0]==\"From\":\n",
    "        email=line[1]\n",
    "        if email not in count_emails:\n",
    "            count_emails[email] = 0\n",
    "        count_emails[email]=count_emails[email]+1\n",
    "comparison=0\n",
    "for email in count_emails:\n",
    "    number_emails=count_emails[email]\n",
    "    if number_emails>comparison:\n",
    "        comparison=number_emails\n",
    "        person=email\n",
    "print(person,comparison) "
   ]
  }
 ],
 "metadata": {
  "kernelspec": {
   "display_name": "Python 3",
   "language": "python",
   "name": "python3"
  },
  "language_info": {
   "codemirror_mode": {
    "name": "ipython",
    "version": 3
   },
   "file_extension": ".py",
   "mimetype": "text/x-python",
   "name": "python",
   "nbconvert_exporter": "python",
   "pygments_lexer": "ipython3",
   "version": "3.6.8"
  }
 },
 "nbformat": 4,
 "nbformat_minor": 2
}
