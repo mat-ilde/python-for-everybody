{
 "cells": [
  {
   "cell_type": "markdown",
   "metadata": {},
   "source": [
    "## Lists"
   ]
  },
  {
   "cell_type": "markdown",
   "metadata": {},
   "source": [
    "## looking inside a list"
   ]
  },
  {
   "cell_type": "code",
   "execution_count": 1,
   "metadata": {},
   "outputs": [
    {
     "name": "stdout",
     "output_type": "stream",
     "text": [
      "george\n"
     ]
    }
   ],
   "source": [
    "friends=[\"Sally\",\"George\",\"Joan\"]\n",
    "print(friends[1])"
   ]
  },
  {
   "cell_type": "markdown",
   "metadata": {},
   "source": [
    "## list and definite loops"
   ]
  },
  {
   "cell_type": "code",
   "execution_count": 5,
   "metadata": {},
   "outputs": [
    {
     "name": "stdout",
     "output_type": "stream",
     "text": [
      "Happy new year: Sally\n",
      "Happy new year: George\n",
      "Happy new year: Joan\n"
     ]
    }
   ],
   "source": [
    "friends=[\"Sally\",\"George\",\"Joan\"]\n",
    "for friend in friends:\n",
    "    print(\"Happy new year:\", friend)"
   ]
  },
  {
   "cell_type": "markdown",
   "metadata": {},
   "source": [
    "## How long is a list"
   ]
  },
  {
   "cell_type": "code",
   "execution_count": 8,
   "metadata": {},
   "outputs": [
    {
     "name": "stdout",
     "output_type": "stream",
     "text": [
      "4\n"
     ]
    }
   ],
   "source": [
    "greet=[\"Maria\",\"28\",\"Pedro\",\"Uri\"]\n",
    "# our print is a number of elements in our list\n",
    "print(len(greet))"
   ]
  },
  {
   "cell_type": "markdown",
   "metadata": {},
   "source": [
    "## Range function return a list"
   ]
  },
  {
   "cell_type": "code",
   "execution_count": 17,
   "metadata": {},
   "outputs": [
    {
     "name": "stdout",
     "output_type": "stream",
     "text": [
      "5\n",
      "range(0, 5)\n",
      "range(0, 4)\n"
     ]
    }
   ],
   "source": [
    "greet=[\"Maria\",\"28\",\"Pedro\",\"Uri\",\"juana\"]\n",
    "print(len(greet))\n",
    "print(range(len(greet)))\n",
    "print(range(4))"
   ]
  },
  {
   "cell_type": "markdown",
   "metadata": {},
   "source": [
    "## Tales of two loops"
   ]
  },
  {
   "cell_type": "code",
   "execution_count": 25,
   "metadata": {},
   "outputs": [
    {
     "name": "stdout",
     "output_type": "stream",
     "text": [
      "Happy new year: Maria\n",
      "Happy new year: Arca\n",
      "Happy new year: Pedro\n",
      "Happy new year: Uri\n",
      "Happy new year: juana\n"
     ]
    }
   ],
   "source": [
    "# we use this loop like a simple loop\n",
    "friends=[\"Maria\",\"Arca\",\"Pedro\",\"Uri\",\"juana\"]\n",
    "for friend in friends:\n",
    "    print(\"Happy new year:\",friend)"
   ]
  },
  {
   "cell_type": "code",
   "execution_count": 37,
   "metadata": {},
   "outputs": [
    {
     "name": "stdout",
     "output_type": "stream",
     "text": [
      "Happy new year: Maria\n",
      "5\n",
      "range(0, 5)\n",
      "Happy new year: Arca\n",
      "4\n",
      "range(0, 4)\n",
      "Happy new year: Pedro\n",
      "5\n",
      "range(0, 5)\n",
      "Happy new year: Uri\n",
      "3\n",
      "range(0, 3)\n",
      "Happy new year: juana\n",
      "5\n",
      "range(0, 5)\n"
     ]
    }
   ],
   "source": [
    "friends=[\"Maria\",\"Arca\",\"Pedro\",\"Uri\",\"juana\"]\n",
    "for i in range(len(friends)):\n",
    "    friend=friends[i]\n",
    "    print(\"Happy new year:\",friend)\n",
    "    # my output is a number of letters of each name\n",
    "    print(len(friend))\n",
    "    print(range(len(friend)))"
   ]
  },
  {
   "cell_type": "markdown",
   "metadata": {},
   "source": [
    "## Manipulating lists"
   ]
  },
  {
   "cell_type": "markdown",
   "metadata": {},
   "source": [
    "## Concatenting list using \"+\""
   ]
  },
  {
   "cell_type": "code",
   "execution_count": 38,
   "metadata": {},
   "outputs": [
    {
     "name": "stdout",
     "output_type": "stream",
     "text": [
      "[1, 2, 3, 4, 5, 6, 7, 8]\n"
     ]
    }
   ],
   "source": [
    "a=[1,2,3,4]\n",
    "b=[5,6,7,8]\n",
    "c=a+b\n",
    "print(c)"
   ]
  },
  {
   "cell_type": "markdown",
   "metadata": {},
   "source": [
    "## Slicing list using \":\""
   ]
  },
  {
   "cell_type": "code",
   "execution_count": 42,
   "metadata": {},
   "outputs": [
    {
     "data": {
      "text/plain": [
       "[21, 34, 45]"
      ]
     },
     "execution_count": 42,
     "metadata": {},
     "output_type": "execute_result"
    }
   ],
   "source": [
    "t=[21,34,45,67,89,40]\n",
    "t[0:3]"
   ]
  },
  {
   "cell_type": "code",
   "execution_count": 43,
   "metadata": {},
   "outputs": [
    {
     "data": {
      "text/plain": [
       "[21, 34, 45, 67]"
      ]
     },
     "execution_count": 43,
     "metadata": {},
     "output_type": "execute_result"
    }
   ],
   "source": [
    "#from position 0 to position 4\n",
    "t[:4]"
   ]
  },
  {
   "cell_type": "code",
   "execution_count": 44,
   "metadata": {},
   "outputs": [
    {
     "data": {
      "text/plain": [
       "[67, 89, 40]"
      ]
     },
     "execution_count": 44,
     "metadata": {},
     "output_type": "execute_result"
    }
   ],
   "source": [
    "# from position 3 onwards\n",
    "t[3:]"
   ]
  },
  {
   "cell_type": "code",
   "execution_count": 45,
   "metadata": {},
   "outputs": [
    {
     "data": {
      "text/plain": [
       "[21, 34, 45, 67, 89, 40]"
      ]
     },
     "execution_count": 45,
     "metadata": {},
     "output_type": "execute_result"
    }
   ],
   "source": [
    "# all the elements in my list\n",
    "t[:]"
   ]
  },
  {
   "cell_type": "markdown",
   "metadata": {},
   "source": [
    "## Building a list from scratch"
   ]
  },
  {
   "cell_type": "code",
   "execution_count": 51,
   "metadata": {},
   "outputs": [
    {
     "name": "stdout",
     "output_type": "stream",
     "text": [
      "['book']\n",
      "['book', '98']\n",
      "['book', '98', 'cooking']\n"
     ]
    }
   ],
   "source": [
    "stuff=list()\n",
    "stuff.append(\"book\")\n",
    "print(stuff)\n",
    "stuff.append(\"98\")\n",
    "print(stuff)\n",
    "stuff.append(\"cooking\")\n",
    "print(stuff)"
   ]
  },
  {
   "cell_type": "markdown",
   "metadata": {},
   "source": [
    "## Is something in a list? we can use \"in\"\n"
   ]
  },
  {
   "cell_type": "code",
   "execution_count": 52,
   "metadata": {},
   "outputs": [
    {
     "data": {
      "text/plain": [
       "False"
      ]
     },
     "execution_count": 52,
     "metadata": {},
     "output_type": "execute_result"
    }
   ],
   "source": [
    "some=[67,23,56,78,88]\n",
    "9 in some"
   ]
  },
  {
   "cell_type": "code",
   "execution_count": 53,
   "metadata": {},
   "outputs": [
    {
     "data": {
      "text/plain": [
       "True"
      ]
     },
     "execution_count": 53,
     "metadata": {},
     "output_type": "execute_result"
    }
   ],
   "source": [
    "67 in some"
   ]
  },
  {
   "cell_type": "code",
   "execution_count": 56,
   "metadata": {},
   "outputs": [
    {
     "data": {
      "text/plain": [
       "False"
      ]
     },
     "execution_count": 56,
     "metadata": {},
     "output_type": "execute_result"
    }
   ],
   "source": [
    "23 not in some"
   ]
  },
  {
   "cell_type": "markdown",
   "metadata": {},
   "source": [
    "## List are in order using \"sort\""
   ]
  },
  {
   "cell_type": "code",
   "execution_count": 4,
   "metadata": {},
   "outputs": [
    {
     "name": "stdout",
     "output_type": "stream",
     "text": [
      "['Arca', 'Maria', 'Pedro', 'Uri', 'juana']\n"
     ]
    }
   ],
   "source": [
    "friends=[\"Maria\",\"Arca\",\"Pedro\",\"Uri\",\"juana\"]\n",
    "friends.sort()\n",
    "print(friends)"
   ]
  },
  {
   "cell_type": "markdown",
   "metadata": {},
   "source": [
    "## Built-in function and list"
   ]
  },
  {
   "cell_type": "code",
   "execution_count": 4,
   "metadata": {},
   "outputs": [
    {
     "name": "stdout",
     "output_type": "stream",
     "text": [
      "6\n",
      "89\n",
      "21\n",
      "296\n",
      "49.333333333333336\n"
     ]
    }
   ],
   "source": [
    "nums=[21,34,45,67,89,40]\n",
    "print(len(nums))\n",
    "print(max(nums))\n",
    "print(min(nums))\n",
    "print(sum(nums))\n",
    "# otherwise we can have the average\n",
    "print(sum(nums)/len(nums))\n",
    "\n"
   ]
  },
  {
   "cell_type": "code",
   "execution_count": 2,
   "metadata": {},
   "outputs": [
    {
     "name": "stdout",
     "output_type": "stream",
     "text": [
      "Enter a number:23\n",
      "Average: 23.0\n",
      "Enter a number:45\n",
      "Average: 34.0\n",
      "Enter a number:69\n",
      "Average: 45.666666666666664\n",
      "Enter a number:done\n"
     ]
    }
   ],
   "source": [
    "total=0\n",
    "count=0\n",
    "while 1==1:\n",
    "    inp=(input(\"Enter a number:\"))\n",
    "    if inp==\"done\":   \n",
    "        break\n",
    "    inp=int(inp)\n",
    "    value=float(inp)\n",
    "    \n",
    "    total=total+value\n",
    "    count=count+1\n",
    "    average=total/count\n",
    "    print(\"Average:\", average)\n"
   ]
  },
  {
   "cell_type": "markdown",
   "metadata": {},
   "source": [
    "## Strings and list"
   ]
  },
  {
   "cell_type": "code",
   "execution_count": 2,
   "metadata": {},
   "outputs": [
    {
     "name": "stdout",
     "output_type": "stream",
     "text": [
      "['with', 'three', 'words']\n",
      "3\n",
      "with\n",
      "with\n",
      "three\n",
      "words\n"
     ]
    }
   ],
   "source": [
    "abc=\"with three words\"\n",
    "stuff=abc.split()\n",
    "print(stuff)\n",
    "print(len(stuff))\n",
    "print(stuff[0])\n",
    "\n",
    "for w in stuff:\n",
    "    print(w)"
   ]
  },
  {
   "cell_type": "code",
   "execution_count": 5,
   "metadata": {},
   "outputs": [
    {
     "name": "stdout",
     "output_type": "stream",
     "text": [
      "['with', ' three', ' words']\n",
      "3\n",
      "with\n"
     ]
    }
   ],
   "source": [
    "abc=\"with, three, words\"\n",
    "# we say where we want the spaces\n",
    "stuff=abc.split(\",\")\n",
    "print(stuff)\n",
    "print(len(stuff))\n",
    "print(stuff[0])\n"
   ]
  },
  {
   "cell_type": "code",
   "execution_count": null,
   "metadata": {},
   "outputs": [],
   "source": [
    "the_file=/home/mati/Escritorio/textos_descargados_coursera/my_data/romeo.txt"
   ]
  },
  {
   "cell_type": "code",
   "execution_count": 13,
   "metadata": {
    "scrolled": true
   },
   "outputs": [
    {
     "name": "stdout",
     "output_type": "stream",
     "text": [
      "/home/mati/Escritorio/submitt_partners/my_data/mbox-short.txt\n",
      "stephen.marquard@uct.ac.za\n",
      "stephen.marquard@uct.ac.za\n",
      "louis@media.berkeley.edu\n",
      "louis@media.berkeley.edu\n",
      "zqian@umich.edu\n",
      "zqian@umich.edu\n",
      "rjlowe@iupui.edu\n",
      "rjlowe@iupui.edu\n",
      "zqian@umich.edu\n",
      "zqian@umich.edu\n",
      "rjlowe@iupui.edu\n",
      "rjlowe@iupui.edu\n",
      "cwen@iupui.edu\n",
      "cwen@iupui.edu\n",
      "cwen@iupui.edu\n",
      "cwen@iupui.edu\n",
      "gsilver@umich.edu\n",
      "gsilver@umich.edu\n",
      "gsilver@umich.edu\n",
      "gsilver@umich.edu\n",
      "zqian@umich.edu\n",
      "zqian@umich.edu\n",
      "gsilver@umich.edu\n",
      "gsilver@umich.edu\n",
      "wagnermr@iupui.edu\n",
      "wagnermr@iupui.edu\n",
      "zqian@umich.edu\n",
      "zqian@umich.edu\n",
      "antranig@caret.cam.ac.uk\n",
      "antranig@caret.cam.ac.uk\n",
      "gopal.ramasammycook@gmail.com\n",
      "gopal.ramasammycook@gmail.com\n",
      "david.horwitz@uct.ac.za\n",
      "david.horwitz@uct.ac.za\n",
      "david.horwitz@uct.ac.za\n",
      "david.horwitz@uct.ac.za\n",
      "david.horwitz@uct.ac.za\n",
      "david.horwitz@uct.ac.za\n",
      "david.horwitz@uct.ac.za\n",
      "david.horwitz@uct.ac.za\n",
      "stephen.marquard@uct.ac.za\n",
      "stephen.marquard@uct.ac.za\n",
      "louis@media.berkeley.edu\n",
      "louis@media.berkeley.edu\n",
      "louis@media.berkeley.edu\n",
      "louis@media.berkeley.edu\n",
      "ray@media.berkeley.edu\n",
      "ray@media.berkeley.edu\n",
      "cwen@iupui.edu\n",
      "cwen@iupui.edu\n",
      "cwen@iupui.edu\n",
      "cwen@iupui.edu\n",
      "cwen@iupui.edu\n",
      "cwen@iupui.edu\n",
      "There were 1910 Lines in the file from as the first word\n"
     ]
    }
   ],
   "source": [
    "#example 1\n",
    "\n",
    "file_dir=input()\n",
    "file_2=open(file_dir)\n",
    "count=0\n",
    "file_string=file_2.readlines()\n",
    "for line in file_string:\n",
    "    count=count+1\n",
    "    line=line.rstrip()\n",
    "    if not line.startswith(\"From\"):continue\n",
    "    words=line.split()\n",
    "    print(words[1])\n",
    "print(\"There were\",count,\"Lines in the file from as the first word\")\n",
    "    "
   ]
  },
  {
   "cell_type": "markdown",
   "metadata": {},
   "source": [
    "## Double split"
   ]
  },
  {
   "cell_type": "code",
   "execution_count": 4,
   "metadata": {},
   "outputs": [
    {
     "name": "stdout",
     "output_type": "stream",
     "text": [
      "iupui.edu\n"
     ]
    }
   ],
   "source": [
    "file_dir=\"From rjlowe@iupui.edu Fri Jan 4 14:50:18 2008\"\n",
    "spaces=file_dir.split()\n",
    "email=spaces[1]\n",
    "pieces=email.split(\"@\")\n",
    "print(pieces[1])\n",
    "\n"
   ]
  },
  {
   "cell_type": "code",
   "execution_count": 6,
   "metadata": {},
   "outputs": [
    {
     "name": "stdout",
     "output_type": "stream",
     "text": [
      "['Glenn', 'Joseph', 'Sally']\n"
     ]
    }
   ],
   "source": [
    "friends = [ 'Joseph', 'Glenn', 'Sally' ]\n",
    "friends.sort()\n",
    "print(friends)"
   ]
  },
  {
   "cell_type": "markdown",
   "metadata": {},
   "source": [
    "## Final work_1 week-4"
   ]
  },
  {
   "cell_type": "markdown",
   "metadata": {},
   "source": [
    "8.4 Open the file romeo.txt and read it line by line. For each line, split the line into a list of words using the split() method. The program should build a list of words. For each word on each line check to see if the word is already in the list and if not append it to the list. When the program completes, sort and print the resulting words in alphabetical order."
   ]
  },
  {
   "cell_type": "code",
   "execution_count": null,
   "metadata": {},
   "outputs": [],
   "source": [
    "/home/mati/Escritorio/textos_descargados_coursera/my_data/romeo.txt"
   ]
  },
  {
   "cell_type": "code",
   "execution_count": 7,
   "metadata": {},
   "outputs": [
    {
     "name": "stdout",
     "output_type": "stream",
     "text": [
      "Enter file name: /home/mati/Escritorio/textos_descargados_coursera/my_data/romeo.txt\n",
      "['But', 'soft', 'what', 'light', 'through', 'yonder', 'window', 'breaks', 'It', 'is', 'the', 'east', 'and', 'Juliet', 'is', 'the', 'sun', 'Arise', 'fair', 'sun', 'and', 'kill', 'the', 'envious', 'moon', 'Who', 'is', 'already', 'sick', 'and', 'pale', 'with', 'grief']\n"
     ]
    }
   ],
   "source": [
    "file=input(\"Enter file name: \")\n",
    "file_2=open(file)\n",
    "begin_lista=[]\n",
    "my_file_1=file_2.readlines()\n",
    "for line in my_file_1:\n",
    "    line=line.strip()\n",
    "    line=line.split()\n",
    "    begin_lista=begin_lista+line\n",
    "    line_2=sorted(begin_lista)\n",
    "print(begin_lista)\n",
    "    \n",
    "    "
   ]
  },
  {
   "cell_type": "markdown",
   "metadata": {},
   "source": [
    "## You will parse the From line using split() and print out the second word in the line (i.e. the entire address of the person who sent the message). Then print out a count at the end.\n",
    "Hint: make sure not to include the lines that start with 'From:'.\n",
    "\n",
    "You can download the sample data at http:"
   ]
  },
  {
   "cell_type": "code",
   "execution_count": null,
   "metadata": {},
   "outputs": [],
   "source": [
    "/home/mati/Escritorio/textos_descargados_coursera/my_data/mbox-short.txt"
   ]
  },
  {
   "cell_type": "code",
   "execution_count": 3,
   "metadata": {},
   "outputs": [
    {
     "name": "stdout",
     "output_type": "stream",
     "text": [
      "Enter file name: /home/mati/Escritorio/submitt_partners/my_data/mbox-short.txt\n",
      "stephen.marquard@uct.ac.za\n",
      "louis@media.berkeley.edu\n",
      "zqian@umich.edu\n",
      "rjlowe@iupui.edu\n",
      "zqian@umich.edu\n",
      "rjlowe@iupui.edu\n",
      "cwen@iupui.edu\n",
      "cwen@iupui.edu\n",
      "gsilver@umich.edu\n",
      "gsilver@umich.edu\n",
      "zqian@umich.edu\n",
      "gsilver@umich.edu\n",
      "wagnermr@iupui.edu\n",
      "zqian@umich.edu\n",
      "antranig@caret.cam.ac.uk\n",
      "gopal.ramasammycook@gmail.com\n",
      "david.horwitz@uct.ac.za\n",
      "david.horwitz@uct.ac.za\n",
      "david.horwitz@uct.ac.za\n",
      "david.horwitz@uct.ac.za\n",
      "stephen.marquard@uct.ac.za\n",
      "louis@media.berkeley.edu\n",
      "louis@media.berkeley.edu\n",
      "ray@media.berkeley.edu\n",
      "cwen@iupui.edu\n",
      "cwen@iupui.edu\n",
      "cwen@iupui.edu\n",
      "There were 27 Lines in the file from as the first word\n"
     ]
    }
   ],
   "source": [
    "file=input(\"Enter file name: \")\n",
    "opening=open(file)\n",
    "reading=opening.readlines()\n",
    "count=0\n",
    "for line in reading:\n",
    "    line=line.rstrip()\n",
    "    wds=line.split()\n",
    "    if len(wds)<1 or wds[0] !=\"From\":\n",
    "        continue\n",
    "    print(wds[1])\n",
    "    count=count+1\n",
    "print(\"There were\",count,\"Lines in the file from as the first word\")"
   ]
  },
  {
   "cell_type": "code",
   "execution_count": 8,
   "metadata": {},
   "outputs": [],
   "source": [
    "# in this exercise we sorted the words "
   ]
  },
  {
   "cell_type": "code",
   "execution_count": 3,
   "metadata": {
    "scrolled": true
   },
   "outputs": [
    {
     "name": "stdout",
     "output_type": "stream",
     "text": [
      "Enter file name: /home/mati/Escritorio/submitt_partners/my_data/romeo.txt\n",
      "['Arise', 'But', 'It', 'Juliet', 'Who', 'already', 'and', 'breaks', 'east', 'envious', 'fair', 'grief', 'is', 'kill', 'light', 'moon', 'pale', 'sick', 'soft', 'sun', 'the', 'through', 'what', 'window', 'with', 'yonder']\n"
     ]
    }
   ],
   "source": [
    "file_name=input(\"Enter file name: \")\n",
    "file=open(file_name)\n",
    "my_lines=file.readlines()\n",
    "list_of_words=[]\n",
    "for line in my_lines:\n",
    "    words=line.split()\n",
    "    for word in words:\n",
    "        if word not in list_of_words:\n",
    "            list_of_words.append(word)\n",
    "organization_words=sorted(list_of_words)\n",
    "print(organization_words)\n",
    "\n",
    "\n",
    "\n",
    "       \n",
    "    "
   ]
  },
  {
   "cell_type": "markdown",
   "metadata": {},
   "source": [
    "## hacer una funciòn que reciba una lista de nùmeros y un nùmero y retorne true or false si hay dos nùmeros de la lista que suman ese nùmero"
   ]
  },
  {
   "cell_type": "code",
   "execution_count": 9,
   "metadata": {},
   "outputs": [
    {
     "name": "stdout",
     "output_type": "stream",
     "text": [
      "34 68\n",
      "4 8\n",
      "67 134\n",
      "8 16\n"
     ]
    },
    {
     "data": {
      "text/plain": [
       "False"
      ]
     },
     "execution_count": 9,
     "metadata": {},
     "output_type": "execute_result"
    }
   ],
   "source": [
    "all_numbers=[34,4,67,8]\n",
    "suma=12\n",
    "initial=0\n",
    "def numbers(all_numbers,suma):\n",
    "    for i in all_numbers:\n",
    "        the_sum=i+i\n",
    "        print(i,the_sum)\n",
    "        if all_numbers==suma:\n",
    "            return True\n",
    "    return False\n",
    "numbers(all_numbers,12)\n"
   ]
  },
  {
   "cell_type": "code",
   "execution_count": 14,
   "metadata": {},
   "outputs": [
    {
     "name": "stdout",
     "output_type": "stream",
     "text": [
      "25\n"
     ]
    }
   ],
   "source": [
    "# sum of the numbers inside of the list\n",
    "def sumalista(listaNumeros):\n",
    "    laSuma = 0\n",
    "    for i in listaNumeros:\n",
    "        laSuma = laSuma + i\n",
    "    return laSuma\n",
    "\n",
    "print(sumalista([1,3,5,7,9]))\n"
   ]
  },
  {
   "cell_type": "markdown",
   "metadata": {},
   "source": [
    "## Ejemplos de funciones"
   ]
  },
  {
   "cell_type": "code",
   "execution_count": 27,
   "metadata": {},
   "outputs": [
    {
     "name": "stdout",
     "output_type": "stream",
     "text": [
      "Esta\n"
     ]
    }
   ],
   "source": [
    "def is_in_list(list_names,name_to_find):\n",
    "    for name in list_names:\n",
    "        if name==name_to_find:\n",
    "            return True\n",
    "    return False      \n",
    "my_names = [\"maria\",\"juana\",\"pedro\"]\n",
    "name_to_find = \"juana\"\n",
    "\n",
    "if is_in_list(my_names,name_to_find)==True:\n",
    "    print(\"Esta\")\n",
    "else:\n",
    "    print(\"No esta\")\n"
   ]
  },
  {
   "cell_type": "markdown",
   "metadata": {},
   "source": [
    "## funcion que diga cual es el mayor de dos numeros"
   ]
  },
  {
   "cell_type": "code",
   "execution_count": 10,
   "metadata": {},
   "outputs": [
    {
     "name": "stdout",
     "output_type": "stream",
     "text": [
      "i want to try\n"
     ]
    }
   ],
   "source": [
    "def mensaje():\n",
    "    print(\"i want to try\")\n",
    "mensaje()"
   ]
  },
  {
   "cell_type": "code",
   "execution_count": 27,
   "metadata": {},
   "outputs": [
    {
     "data": {
      "text/plain": [
       "45"
      ]
     },
     "execution_count": 27,
     "metadata": {},
     "output_type": "execute_result"
    }
   ],
   "source": [
    "def get_maximum(number_1,number_2):\n",
    "    if number_1>number_2:\n",
    "        return(number_1)\n",
    "    else:\n",
    "        return(number_2)\n",
    "get_maximum(12,45)"
   ]
  },
  {
   "cell_type": "markdown",
   "metadata": {},
   "source": [
    "## mayor de una lista de numeros"
   ]
  },
  {
   "cell_type": "code",
   "execution_count": 5,
   "metadata": {},
   "outputs": [
    {
     "data": {
      "text/plain": [
       "56"
      ]
     },
     "execution_count": 5,
     "metadata": {},
     "output_type": "execute_result"
    }
   ],
   "source": [
    "mayor_number=[12,34,56,1,15]\n",
    "def high_number(mayor_number):\n",
    "        return(max(mayor_number))\n",
    "high_number(mayor_number)"
   ]
  },
  {
   "cell_type": "code",
   "execution_count": 38,
   "metadata": {},
   "outputs": [],
   "source": [
    "mayor_number_2=[1333,35,567,2,16]# create your numbers list\n",
    "def my_max(mayor_number_2):\n",
    "    max_val = mayor_number_2[0]       # initialize with the first value from the list\n",
    "    for item in mayor_number_2:       # loop over the items in the list\n",
    "        if item > max_val: # compare current item with the maximum seen so far\n",
    "            max_val = item # set new max\n",
    "    return  max_val       # return the max"
   ]
  },
  {
   "cell_type": "code",
   "execution_count": 39,
   "metadata": {},
   "outputs": [
    {
     "data": {
      "text/plain": [
       "1333"
      ]
     },
     "execution_count": 39,
     "metadata": {},
     "output_type": "execute_result"
    }
   ],
   "source": [
    "my_max(mayor_number_2)"
   ]
  },
  {
   "cell_type": "markdown",
   "metadata": {},
   "source": [
    "## 1. Write a Python program to sum all the items in a list. "
   ]
  },
  {
   "cell_type": "code",
   "execution_count": 15,
   "metadata": {},
   "outputs": [],
   "source": [
    "def all_numbers(list_number):\n",
    "    suma_all=0\n",
    "    for i in list_number:\n",
    "        suma_all=suma_all+i\n",
    "    return suma_all\n",
    "\n"
   ]
  },
  {
   "cell_type": "code",
   "execution_count": 18,
   "metadata": {},
   "outputs": [],
   "source": [
    "list_number=[12,34,56,78,90]"
   ]
  },
  {
   "cell_type": "code",
   "execution_count": 17,
   "metadata": {},
   "outputs": [
    {
     "data": {
      "text/plain": [
       "270"
      ]
     },
     "execution_count": 17,
     "metadata": {},
     "output_type": "execute_result"
    }
   ],
   "source": [
    "all_numbers(list_number)"
   ]
  },
  {
   "cell_type": "markdown",
   "metadata": {},
   "source": [
    "## 2. Write a Python program to multiplies all the items in a list."
   ]
  },
  {
   "cell_type": "code",
   "execution_count": 21,
   "metadata": {},
   "outputs": [
    {
     "data": {
      "text/plain": [
       "160392960"
      ]
     },
     "execution_count": 21,
     "metadata": {},
     "output_type": "execute_result"
    }
   ],
   "source": [
    "def multiplies_numbers(list_number):\n",
    "    por=1\n",
    "    for i in list_number:\n",
    "        por=por*i\n",
    "    return por\n",
    "multiplies_numbers(list_number)"
   ]
  },
  {
   "cell_type": "markdown",
   "metadata": {},
   "source": [
    "## 3. Write a Python program to get the largest number from a list."
   ]
  },
  {
   "cell_type": "code",
   "execution_count": 24,
   "metadata": {},
   "outputs": [
    {
     "data": {
      "text/plain": [
       "90"
      ]
     },
     "execution_count": 24,
     "metadata": {},
     "output_type": "execute_result"
    }
   ],
   "source": [
    "def largest_number(list_number):\n",
    "    largest=list_number[0]\n",
    "    for i in list_number:\n",
    "        if i>largest:\n",
    "            largest=i\n",
    "    return largest\n",
    "largest_number(list_number)"
   ]
  },
  {
   "cell_type": "markdown",
   "metadata": {},
   "source": [
    "## 4. Write a Python program to get the smallest number from a list."
   ]
  },
  {
   "cell_type": "code",
   "execution_count": 26,
   "metadata": {},
   "outputs": [
    {
     "data": {
      "text/plain": [
       "12"
      ]
     },
     "execution_count": 26,
     "metadata": {},
     "output_type": "execute_result"
    }
   ],
   "source": [
    "def smallest_number(list_number):\n",
    "    smallest=list_number[0]\n",
    "    for i in list_number:\n",
    "        if i<smallest:\n",
    "            smallest=i\n",
    "    return smallest\n",
    "smallest_number(list_number)\n"
   ]
  },
  {
   "cell_type": "markdown",
   "metadata": {},
   "source": [
    "## 5. Write a Python program to count the number of strings where the string length is 2 or more and the first and last character are same from a given list of strings.\n",
    "Sample List : ['abc', 'xyz', 'aba', '1221']\n",
    "Expected Result : 2"
   ]
  },
  {
   "cell_type": "code",
   "execution_count": 90,
   "metadata": {},
   "outputs": [
    {
     "data": {
      "text/plain": [
       "2"
      ]
     },
     "execution_count": 90,
     "metadata": {},
     "output_type": "execute_result"
    }
   ],
   "source": [
    "list_words=(\"abc\", \"xyz\", \"aba\", \"1221\")\n",
    "\n",
    "def string_lenght(list_words):\n",
    "    count=0\n",
    "    min_length=2\n",
    "    for word in list_words:\n",
    "        if len(word)>=min_length and word[-1]==word[0]:\n",
    "            count=count+1\n",
    "    return count \n",
    "string_lenght(list_words)\n",
    "\n",
    "        "
   ]
  },
  {
   "cell_type": "markdown",
   "metadata": {},
   "source": [
    "## 11. Write a Python function that takes two lists and returns True if they have at least one common member."
   ]
  },
  {
   "cell_type": "code",
   "execution_count": 12,
   "metadata": {},
   "outputs": [
    {
     "data": {
      "text/plain": [
       "True"
      ]
     },
     "execution_count": 12,
     "metadata": {},
     "output_type": "execute_result"
    }
   ],
   "source": [
    "list_1=[\"ana\",\"1\",\"angel\",\"0\"]\n",
    "list_2=[\"pedro\",\"1\",\"a\",\"mati\"]\n",
    "def least_one_common(list_1,list_2):   \n",
    "    for i in list_1:\n",
    "        for x in list_2:\n",
    "            if i==x:\n",
    "                return True\n",
    "    return False\n",
    "            \n",
    "least_one_common(list_1,list_2)\n",
    "       "
   ]
  },
  {
   "cell_type": "markdown",
   "metadata": {},
   "source": [
    "## 12. Write a Python program to print a specified list after removing the 0th, 4th and 5th elements. Go to the editor\n",
    "Sample List : ['Red', 'Green', 'White', 'Black', 'Pink', 'Yellow']\n",
    "Expected Output : ['Green', 'White', 'Black']"
   ]
  },
  {
   "cell_type": "code",
   "execution_count": 27,
   "metadata": {},
   "outputs": [
    {
     "name": "stdout",
     "output_type": "stream",
     "text": [
      "['ana', 'aro', 'juana']\n"
     ]
    }
   ],
   "source": [
    "list_1=[\"maria\",\"ana\",\"aro\",\"juana\",\"albert\",\"berto\"]\n",
    "def name(list_1):\n",
    "    # we can use pop() in this case we erase the element in this position\n",
    "    list_1.pop(0)\n",
    "    # or remove we specify the name \n",
    "    list_1.remove(\"albert\")\n",
    "    list_1.pop(3)\n",
    "    return list_1\n",
    "new_list=name(list_1)\n",
    "print(new_list)\n"
   ]
  }
 ],
 "metadata": {
  "kernelspec": {
   "display_name": "Python 3",
   "language": "python",
   "name": "python3"
  },
  "language_info": {
   "codemirror_mode": {
    "name": "ipython",
    "version": 3
   },
   "file_extension": ".py",
   "mimetype": "text/x-python",
   "name": "python",
   "nbconvert_exporter": "python",
   "pygments_lexer": "ipython3",
   "version": "3.6.8"
  }
 },
 "nbformat": 4,
 "nbformat_minor": 2
}
