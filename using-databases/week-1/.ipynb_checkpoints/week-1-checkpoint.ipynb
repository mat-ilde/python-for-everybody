{
 "cells": [
  {
   "cell_type": "markdown",
   "metadata": {},
   "source": [
    "## Using Databases with python"
   ]
  },
  {
   "cell_type": "code",
   "execution_count": null,
   "metadata": {},
   "outputs": [],
   "source": [
    "# learnig to use classes"
   ]
  },
  {
   "cell_type": "code",
   "execution_count": 90,
   "metadata": {},
   "outputs": [
    {
     "name": "stdout",
     "output_type": "stream",
     "text": [
      "John\n",
      "36\n",
      "american\n",
      "Hi my name is  John\n",
      "None\n"
     ]
    }
   ],
   "source": [
    "class Person:\n",
    "    def __init__(self, name, age, nacionality):\n",
    "        self.name = name\n",
    "        self.age = age\n",
    "        self.nacionality=nacionality\n",
    "        \n",
    "    def say_hello(self):\n",
    "        print(\"Hi my name is \", self.name)\n",
    "\n",
    "p_john = Person(\"John\", 36,\"american\")\n",
    "p_mati = Person(\"Mati\",24,\"dominican\")\n",
    "\n",
    "print(p_john.name)\n",
    "print(p_john.age)\n",
    "print(p_john.nacionality)\n",
    "print(p_john.say_hello())"
   ]
  },
  {
   "cell_type": "code",
   "execution_count": 49,
   "metadata": {},
   "outputs": [
    {
     "name": "stdout",
     "output_type": "stream",
     "text": [
      "La cuenta de la mesa 5 es:\n",
      "cocacola : 2\n",
      "bistec : 15\n",
      "agua : 4\n",
      "Total:  21  euros\n",
      "La cuenta de la mesa 10 es:\n",
      "vino : 10\n",
      "Total:  10  euros\n"
     ]
    }
   ],
   "source": [
    "class Mesa:\n",
    "    def __init__(self,numero_mesa):\n",
    "        self.consumiciones = []\n",
    "        self.precios = []\n",
    "        self.numero_mesa = numero_mesa\n",
    "    def agregar_consumicion(self,consumicion,precio):\n",
    "        self.consumiciones.append(consumicion)\n",
    "        self.precios.append(precio)\n",
    "    def sacar_cuenta(self):\n",
    "        print(\"La cuenta de la mesa\",self.numero_mesa,\"es:\")\n",
    "        for i in range(len(self.consumiciones)):\n",
    "            print(self.consumiciones[i],\":\",self.precios[i])\n",
    "        print(\"Total: \",sum(self.precios),\" euros\")\n",
    "mesa_1 = Mesa(5)\n",
    "mesa_2 = Mesa(10)\n",
    "mesa_1.agregar_consumicion(\"cocacola\",2)\n",
    "mesa_2.agregar_consumicion(\"vino\",10)\n",
    "mesa_1.agregar_consumicion(\"bistec\",15)\n",
    "mesa_1.agregar_consumicion(\"agua\",4)        \n",
    "mesa_1.sacar_cuenta()   \n",
    "mesa_2.sacar_cuenta()"
   ]
  },
  {
   "cell_type": "code",
   "execution_count": 39,
   "metadata": {},
   "outputs": [],
   "source": [
    "class Cuenta:\n",
    "    def __init__(self,persona,cantidad):\n",
    "        self.conceptos=[]\n",
    "        self.persona=persona\n",
    "        self.cantidades=[]\n",
    "        self.acumular=0\n",
    "        self.real_total=0\n",
    "    def meter_dinero(self,cantidad,concepto):\n",
    "        self.conceptos.append(concepto)\n",
    "        self.cantidades.append(cantidad)\n",
    "        self.acumular=self.acumular+cantidad\n",
    "        print(concepto , \":\" , '+',cantidad)\n",
    "    def sacar_dinero(self,cantidad,concepto):\n",
    "        self.conceptos.append(concepto)\n",
    "        self.cantidades.append(-cantidad)\n",
    "        self.acumular=self.acumular-cantidad\n",
    "        print(str(concepto)+ \":\",cantidad)\n",
    "    def obtener_total(self):\n",
    "        for i in range(len(self.cantidades)):\n",
    "            print(self.conceptos[i],\":\",self.cantidades[i])\n",
    "        print(\"Tu saldo final es:\",self.acumular)"
   ]
  },
  {
   "cell_type": "code",
   "execution_count": 40,
   "metadata": {},
   "outputs": [],
   "source": [
    "cliente_1=Cuenta(\"maria\",0)"
   ]
  },
  {
   "cell_type": "code",
   "execution_count": 43,
   "metadata": {},
   "outputs": [
    {
     "name": "stdout",
     "output_type": "stream",
     "text": [
      "hacienda : + 1500\n"
     ]
    }
   ],
   "source": [
    "cliente_1.meter_dinero(1500,\"hacienda\")"
   ]
  },
  {
   "cell_type": "code",
   "execution_count": 41,
   "metadata": {},
   "outputs": [
    {
     "name": "stdout",
     "output_type": "stream",
     "text": [
      "comida: 500\n"
     ]
    }
   ],
   "source": [
    "cliente_1.sacar_dinero(500,\"comida\")"
   ]
  },
  {
   "cell_type": "code",
   "execution_count": 44,
   "metadata": {
    "scrolled": true
   },
   "outputs": [
    {
     "name": "stdout",
     "output_type": "stream",
     "text": [
      "comida : -500\n",
      "hacienda : 1500\n",
      "Tu saldo final es: 1000\n"
     ]
    }
   ],
   "source": [
    "cliente_1.obtener_total()"
   ]
  },
  {
   "cell_type": "code",
   "execution_count": 46,
   "metadata": {},
   "outputs": [],
   "source": [
    "class Transaccion:\n",
    "    def __init__(self,persona,cantidad,concepto):\n",
    "        self.persona=persona\n",
    "        self.cantidad=cantidad\n",
    "        self.concepto=concepto\n",
    "        \n",
    "    "
   ]
  },
  {
   "cell_type": "code",
   "execution_count": 82,
   "metadata": {},
   "outputs": [],
   "source": [
    "class Cuenta:\n",
    "    def __init__(self,persona,cantidad):\n",
    "        self.transacciones=[]\n",
    "        self.persona=persona\n",
    "        self.acumular=0\n",
    "        self.real_total=0\n",
    "    def meter_dinero(self,cantidad,concepto):\n",
    "        transaccion = Transaccion(self.persona,cantidad,concepto)\n",
    "        self.transacciones.append(transaccion)\n",
    "        print(concepto , \":\" , '+',cantidad)\n",
    "    def sacar_dinero(self,cantidad,concepto):\n",
    "        transaccion = Transaccion(self.persona,cantidad,concepto)\n",
    "        self.cantidades.append(-cantidad)\n",
    "        self.transacciones.append(transaccion)\n",
    "        print(str(concepto)+ \":\",cantidad)\n",
    "    def obtener_total(self):\n",
    "        "
   ]
  },
  {
   "cell_type": "code",
   "execution_count": 83,
   "metadata": {},
   "outputs": [],
   "source": [
    "cliente_1=Cuenta(\"maria\",0)"
   ]
  },
  {
   "cell_type": "code",
   "execution_count": 85,
   "metadata": {},
   "outputs": [
    {
     "name": "stdout",
     "output_type": "stream",
     "text": [
      "hacienda : + 1500\n"
     ]
    }
   ],
   "source": [
    "cliente_1.meter_dinero(1500,\"hacienda\")"
   ]
  },
  {
   "cell_type": "code",
   "execution_count": null,
   "metadata": {},
   "outputs": [],
   "source": [
    "class Objeto(): \n",
    "    color = \"verde\" \n",
    "    tamanio = \"grande\" \n",
    "    aspecto = \"feo\"\n",
    "\n",
    "    def flotar(self): \n",
    "        print (12 )\n",
    "\n",
    "et = Objeto() \n",
    "print (et.color )\n",
    "print (et.tamanio) \n",
    "print (et.aspecto )\n",
    "et.color = \"r(self,nombre)osa\" \n",
    "print (et.color)"
   ]
  }
 ],
 "metadata": {
  "kernelspec": {
   "display_name": "Python 3",
   "language": "python",
   "name": "python3"
  },
  "language_info": {
   "codemirror_mode": {
    "name": "ipython",
    "version": 3
   },
   "file_extension": ".py",
   "mimetype": "text/x-python",
   "name": "python",
   "nbconvert_exporter": "python",
   "pygments_lexer": "ipython3",
   "version": "3.6.8"
  }
 },
 "nbformat": 4,
 "nbformat_minor": 2
}
