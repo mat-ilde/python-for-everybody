{
 "cells": [
  {
   "cell_type": "markdown",
   "metadata": {},
   "source": [
    "## Counting e-mails with sql"
   ]
  },
  {
   "cell_type": "code",
   "execution_count": 3,
   "metadata": {
    "scrolled": false
   },
   "outputs": [
    {
     "name": "stdout",
     "output_type": "stream",
     "text": [
      "Enter file name: /home/mati/Descargas/mbox.txt\n",
      "zqian@umich.edu 195\n",
      "mmmay@indiana.edu 161\n",
      "cwen@iupui.edu 158\n",
      "chmaurer@iupui.edu 111\n",
      "aaronz@vt.edu 110\n",
      "ian@caret.cam.ac.uk 96\n",
      "jimeng@umich.edu 93\n",
      "rjlowe@iupui.edu 90\n",
      "dlhaines@umich.edu 84\n",
      "david.horwitz@uct.ac.za 67\n"
     ]
    }
   ],
   "source": [
    "import sqlite3\n",
    "\n",
    "#hacemos la conección con la base de datos\n",
    "# y mira el acceso del archivo\n",
    "conn = sqlite3.connect('submit.sqlite')# el nombre de la base datos\n",
    "# es como un guía q nos da el acceso a la base de datos no es tan fácil como abrir y leer.\n",
    "cur = conn.cursor()\n",
    "# si existe la tabla solo evita que se nos pete el programa\n",
    "cur.execute('DROP TABLE IF EXISTS Counts')\n",
    "#las comillas son para leerlo más fácil\n",
    "cur.execute(''' \n",
    "CREATE TABLE Counts (org TEXT, count INTEGER)''')# creamos las tablas como un diccionario\n",
    "#nos pedirá el nombre del archivo\n",
    "fname = input('Enter file name: ')\n",
    "# verifica si es el archivo correcto\n",
    "if (len(fname) < 1): fname = 'mbox-short.txt'\n",
    "# nos abre el archivo\n",
    "fh = open(fname)\n",
    "# hacemos un bucle para poder ver a tráves de él\n",
    "for line in fh:\n",
    "    # nos aseguramos q solo coja lo q empiece por \"FROM\"\n",
    "    if not line.startswith('From: '): continue\n",
    "    # separamos la lista usando un split para obtener la pieza que nos interesa\n",
    "    pieces = line.split()\n",
    "    # guardamos en una variable el string(emails) q nos interesa y q ocupa la posición 1\n",
    "    email = pieces[1]\n",
    "                                                # \"?\"evitará q tengamos un sql injection\n",
    "    # esto verificará q el nombre de la tabla es correcto,no tenga sintax error, \n",
    "    cur.execute('SELECT count FROM Counts WHERE org = ? ', (email,))\n",
    "    # es la información que obtenemos de la base de datos\n",
    "    row = cur.fetchone()\n",
    "    # si no hay niguna información en cur.execute row=nule or none\n",
    "    # si n hay nada rellenará la tabla con la información obtenida empezando a contar desde 1\n",
    "    if row is None:\n",
    "        cur.execute('''INSERT INTO Counts (org, count)\n",
    "                VALUES (?, 1)''', (email,))\n",
    "    else:\n",
    "        # usamos update para incementar el valor de count, se va ir acumulando\n",
    "        cur.execute('UPDATE Counts SET count = count + 1 WHERE org = ?',\n",
    "                    (email,))\n",
    "\n",
    "\n",
    "# https://www.sqlite.org/lang_select.html\n",
    "# con esto hacemos q cuando ejecutemos en python solo nos imprima los 10 primero correos\n",
    "sqlstr = 'SELECT org, count FROM Counts ORDER BY count DESC LIMIT 10'\n",
    "# con esto podemos ir a tráves de los correos y el nùmero de ellos q hay\n",
    "for row in cur.execute(sqlstr):\n",
    "    print(str(row[0]), row[1])\n",
    "# hasta q no hacemos el commit nuestro código no ejecuta nda de lo q le hemos pedido\n",
    "# se hace al final orq sino tradará mucho, al hacer ejecutar nuestro código\n",
    "conn.commit()\n",
    "# con esto se termina la ejecución\n",
    "cur.close()\n"
   ]
  },
  {
   "cell_type": "code",
   "execution_count": null,
   "metadata": {},
   "outputs": [],
   "source": [
    "fichero=/home/mati/Descargas/mbox.txt"
   ]
  },
  {
   "cell_type": "markdown",
   "metadata": {},
   "source": [
    "## segundo problema de la semana 2"
   ]
  },
  {
   "cell_type": "code",
   "execution_count": 2,
   "metadata": {},
   "outputs": [
    {
     "name": "stdout",
     "output_type": "stream",
     "text": [
      "Enter file name: /home/mati/Descargas/mbox.txt\n",
      "iupui.edu 536\n",
      "umich.edu 491\n",
      "indiana.edu 178\n",
      "caret.cam.ac.uk 157\n",
      "vt.edu 110\n",
      "uct.ac.za 96\n",
      "media.berkeley.edu 56\n",
      "ufp.pt 28\n",
      "gmail.com 25\n",
      "et.gatech.edu 17\n"
     ]
    }
   ],
   "source": [
    "import sqlite3\n",
    "\n",
    "\n",
    "conn = sqlite3.connect('submit.sqlite')\n",
    "cur = conn.cursor()\n",
    "\n",
    "cur.execute('DROP TABLE IF EXISTS Counts')\n",
    "\n",
    "cur.execute('''\n",
    "CREATE TABLE Counts (org TEXT, count INTEGER)''')\n",
    "fname = input('Enter file name: ')\n",
    "\n",
    "if (len(fname) < 1): fname = 'mbox.txt'\n",
    "fh = open(fname)\n",
    "\n",
    "for line in fh:\n",
    "    if not line.startswith('From: '): continue\n",
    "    pieces = line.split()\n",
    "    email = pieces[1]\n",
    "# para este ejercisio tuvimos q hacer un segundo split, porq queríamos coger la parte \n",
    "# q está después del @ .\n",
    "    organization=email.split(\"@\")\n",
    "    commands=organization[1]\n",
    "    cur.execute('SELECT count FROM Counts WHERE org = ? ', (commands,))\n",
    "    row = cur.fetchone()\n",
    "    if row is None:\n",
    "        cur.execute('''INSERT INTO Counts (org, count)\n",
    "                VALUES (?, 1)''', (commands,))\n",
    "    else:\n",
    "        cur.execute('UPDATE Counts SET count = count + 1 WHERE org = ?',\n",
    "                    (commands,))\n",
    "\n",
    "\n",
    "# https://www.sqlite.org/lang_select.html\n",
    "sqlstr = 'SELECT org, count FROM Counts ORDER BY count DESC LIMIT 10'\n",
    "\n",
    "for row in cur.execute(sqlstr):\n",
    "    print(str(row[0]),(row[1]))\n",
    "conn.commit()\n",
    "cur.close()\n"
   ]
  }
 ],
 "metadata": {
  "kernelspec": {
   "display_name": "Python 3",
   "language": "python",
   "name": "python3"
  },
  "language_info": {
   "codemirror_mode": {
    "name": "ipython",
    "version": 3
   },
   "file_extension": ".py",
   "mimetype": "text/x-python",
   "name": "python",
   "nbconvert_exporter": "python",
   "pygments_lexer": "ipython3",
   "version": "3.6.8"
  }
 },
 "nbformat": 4,
 "nbformat_minor": 2
}
