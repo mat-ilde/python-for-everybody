{
 "cells": [
  {
   "cell_type": "markdown",
   "metadata": {},
   "source": [
    "## Access web Data"
   ]
  },
  {
   "cell_type": "markdown",
   "metadata": {},
   "source": [
    "## Regular expressions"
   ]
  },
  {
   "cell_type": "code",
   "execution_count": null,
   "metadata": {},
   "outputs": [],
   "source": [
    "romeo=/home/mati/Escritorio/textos_descargados_coursera/my_data/romeo.txt"
   ]
  },
  {
   "cell_type": "code",
   "execution_count": null,
   "metadata": {},
   "outputs": [],
   "source": [
    "correos=/home/mati/Escritorio/textos_descargados_coursera/my_data/mbox-short.txt"
   ]
  },
  {
   "cell_type": "code",
   "execution_count": null,
   "metadata": {},
   "outputs": [],
   "source": [
    "# using .find()\n",
    "hand=input()\n",
    "openning=open(hand)\n",
    "read=openning.readlines()\n",
    "for line in read:\n",
    "    line=line.rstrip()\n",
    "    if line.find(\"From:\")>=0:\n",
    "        print(line)\n",
    "   "
   ]
  },
  {
   "cell_type": "code",
   "execution_count": null,
   "metadata": {},
   "outputs": [],
   "source": [
    "#using research()\n",
    "import re\n",
    "hand=input()\n",
    "openning=open(hand)\n",
    "read=openning.readlines()\n",
    "for line in read:\n",
    "    if re.search(\"From:\",line):\n",
    "        line=line.rstrip()\n",
    "        print(line)\n",
    "   \n",
    "\n"
   ]
  },
  {
   "cell_type": "code",
   "execution_count": null,
   "metadata": {},
   "outputs": [],
   "source": [
    "#using startswith\n",
    "hand=input()\n",
    "openning=open(hand)\n",
    "read=openning.readlines()\n",
    "for line in read:\n",
    "    line=line.strip()\n",
    "    if line.startswith(\"From:\"):\n",
    "        print(line)\n",
    "   "
   ]
  },
  {
   "cell_type": "code",
   "execution_count": 30,
   "metadata": {},
   "outputs": [
    {
     "name": "stdout",
     "output_type": "stream",
     "text": [
      "/home/mati/Escritorio/submitt_partners/my_data/mbox-short.txt\n",
      "From: stephen.marquard@uct.ac.za\n",
      "From: louis@media.berkeley.edu\n",
      "From: zqian@umich.edu\n",
      "From: rjlowe@iupui.edu\n",
      "From: zqian@umich.edu\n",
      "From: rjlowe@iupui.edu\n",
      "From: cwen@iupui.edu\n",
      "From: cwen@iupui.edu\n",
      "From: gsilver@umich.edu\n",
      "From: gsilver@umich.edu\n",
      "From: zqian@umich.edu\n",
      "From: gsilver@umich.edu\n",
      "From: wagnermr@iupui.edu\n",
      "From: zqian@umich.edu\n",
      "From: antranig@caret.cam.ac.uk\n",
      "From: gopal.ramasammycook@gmail.com\n",
      "From: david.horwitz@uct.ac.za\n",
      "From: david.horwitz@uct.ac.za\n",
      "From: david.horwitz@uct.ac.za\n",
      "From: david.horwitz@uct.ac.za\n",
      "From: stephen.marquard@uct.ac.za\n",
      "From: louis@media.berkeley.edu\n",
      "From: louis@media.berkeley.edu\n",
      "From: ray@media.berkeley.edu\n",
      "From: cwen@iupui.edu\n",
      "From: cwen@iupui.edu\n",
      "From: cwen@iupui.edu\n"
     ]
    }
   ],
   "source": [
    "#using research like startswith\n",
    "#using research()\n",
    "import re\n",
    "hand=input()\n",
    "openning=open(hand)\n",
    "read=openning.readlines()\n",
    "for line in read:\n",
    "    if re.search(\"^From:\",line):\n",
    "                #\"^\" this tellus what letter we want look in the beginning of the word \n",
    "        line=line.rstrip()\n",
    "        print(line)\n",
    "   \n",
    "\n",
    "\n"
   ]
  },
  {
   "cell_type": "markdown",
   "metadata": {},
   "source": [
    "## Wild-card characters"
   ]
  },
  {
   "cell_type": "markdown",
   "metadata": {},
   "source": [
    "## ^X.*:"
   ]
  },
  {
   "cell_type": "code",
   "execution_count": null,
   "metadata": {},
   "outputs": [],
   "source": [
    "#if it starts with a capital x and followed by some or some characters with the asterisk it is\n",
    "# some number of times\n",
    "# and finished in two points\n",
    "# example: \"X-siev: cmu 2.3\"\n",
    "# will appear until the end of the line"
   ]
  },
  {
   "cell_type": "markdown",
   "metadata": {},
   "source": [
    "## ^X-\\S+:"
   ]
  },
  {
   "cell_type": "code",
   "execution_count": null,
   "metadata": {},
   "outputs": [],
   "source": [
    "# \"+\" works as * = one or more characters\n",
    "# that begins with a capital x and hyphen that after the hyphen has no blank spaces\n",
    "# and then two points\n",
    "# example: X-Dspam-Result: 231"
   ]
  },
  {
   "cell_type": "markdown",
   "metadata": {},
   "source": [
    "## Matching and Extracting Data"
   ]
  },
  {
   "cell_type": "markdown",
   "metadata": {},
   "source": [
    " ## [0-9]+"
   ]
  },
  {
   "cell_type": "code",
   "execution_count": null,
   "metadata": {},
   "outputs": [],
   "source": [
    "# inside the box means to search for a single number\n",
    "#aggregating the \"+\" will search for one or more digits combining it with refindall"
   ]
  },
  {
   "cell_type": "code",
   "execution_count": 6,
   "metadata": {},
   "outputs": [
    {
     "name": "stdout",
     "output_type": "stream",
     "text": [
      "3036 many reasons, ranging from making your 12234 living to solving 7209\n",
      "['3036', '12234', '7209']\n"
     ]
    }
   ],
   "source": [
    "import re\n",
    "#using refindall()\n",
    "import re\n",
    "x=\"3036 many reasons, ranging from making your 12234 living to solving 7209\"\n",
    "y=re.findall(\"[0-9]+\",x)\n",
    "                    #  using x we say where place we get the numbers\n",
    "print(y)\n"
   ]
  },
  {
   "cell_type": "code",
   "execution_count": 6,
   "metadata": {},
   "outputs": [
    {
     "name": "stdout",
     "output_type": "stream",
     "text": [
      "[]\n",
      "['a', 'o', 'i', 'e', 'a', 'e', 'a']\n"
     ]
    }
   ],
   "source": [
    "import re\n",
    "#using refindall()\n",
    "import re\n",
    "x=\"my 2 favorites are 19 and 42\"\n",
    "y=re.findall(\"[AEIOU]+\",x)\n",
    "            # when not found the characters back us an empty list\n",
    "print(y)\n",
    "import re\n",
    "#using refindall()\n",
    "import re\n",
    "x=\"my 2 favorites are 19 and 42\"\n",
    "y=re.findall(\"[aeiou]+\",x)\n",
    "            # and other hand back us all the characters\n",
    "print(y)\n",
    "       "
   ]
  },
  {
   "cell_type": "markdown",
   "metadata": {},
   "source": [
    "## ^F.+?:"
   ]
  },
  {
   "cell_type": "code",
   "execution_count": 12,
   "metadata": {},
   "outputs": [
    {
     "name": "stdout",
     "output_type": "stream",
     "text": [
      "['stephen.marquard@uct.ac.za']\n"
     ]
    }
   ],
   "source": [
    "# look for a capital f followed by one or more characters but the shortest\n",
    "#using re.findall ()\n",
    "import re\n",
    "x=\"From stephen.marquard@uct.ac.za Sat Jan  5 09:14:16 2008\"\n",
    "y=re.findall('\\S+?@\\S+',x)\n",
    "print(y)\n",
    "\n",
    "\n"
   ]
  },
  {
   "cell_type": "markdown",
   "metadata": {},
   "source": [
    "## \\S+@\\S+"
   ]
  },
  {
   "cell_type": "code",
   "execution_count": null,
   "metadata": {},
   "outputs": [],
   "source": [
    "# without one or more characters with blank spaces at the beginning one or more followed by an @\n",
    "# without one or more characters with blank spaces after the @ without one or more characters\n",
    "# with blank spaces at the end"
   ]
  },
  {
   "cell_type": "code",
   "execution_count": 41,
   "metadata": {},
   "outputs": [
    {
     "name": "stdout",
     "output_type": "stream",
     "text": [
      "['stephen.marquard@uct.ac.za']\n"
     ]
    }
   ],
   "source": [
    "import re\n",
    "x=\"From stephen.marquard@uct.ac.za sat jun 5 12:34:54 2008\"\n",
    "y=re.findall(\"\\S+@\\S+\",x)\n",
    "            # the \"S\" has to be capital letter\n",
    "print(y)\n"
   ]
  },
  {
   "cell_type": "markdown",
   "metadata": {},
   "source": [
    "## ^From (\"\\S+@\\S+\")"
   ]
  },
  {
   "cell_type": "code",
   "execution_count": 45,
   "metadata": {},
   "outputs": [
    {
     "name": "stdout",
     "output_type": "stream",
     "text": [
      "['stephen.marquard@uct.ac.za']\n"
     ]
    }
   ],
   "source": [
    "# that starts with of course a space\n",
    "#but it will only separate what is inside the parentheses\n",
    "import re\n",
    "x=\"From stephen.marquard@uct.ac.za sat jun 5 12:34:54 2008\"\n",
    "y=re.findall(\"^From (\\S+@\\S+)\",x)\n",
    "print(y)"
   ]
  },
  {
   "cell_type": "markdown",
   "metadata": {},
   "source": [
    "## usar .find() en lugar de regular expressions"
   ]
  },
  {
   "cell_type": "code",
   "execution_count": 49,
   "metadata": {},
   "outputs": [
    {
     "name": "stdout",
     "output_type": "stream",
     "text": [
      "21\n",
      "31\n",
      "uct.ac.za\n"
     ]
    }
   ],
   "source": [
    "data=\"From stephen.marquard@uct.ac.za sat jun 5 12:34:54 2008\"\n",
    "atpos=data.find(\"@\")\n",
    "print(atpos)\n",
    "despos=data.find(\" \",atpos)\n",
    "print(despos)\n",
    "opos=data[atpos+1 : despos]\n",
    "print(opos)\n",
    "\n"
   ]
  },
  {
   "cell_type": "markdown",
   "metadata": {},
   "source": [
    "## Double split pattern"
   ]
  },
  {
   "cell_type": "code",
   "execution_count": 60,
   "metadata": {},
   "outputs": [
    {
     "name": "stdout",
     "output_type": "stream",
     "text": [
      "uct.ac.za\n"
     ]
    }
   ],
   "source": [
    "data=\"From stephen.marquard@uct.ac.za sat jun 5 12:34:54 2008\"\n",
    "datos=data.split(\" \")\n",
    "name=datos[1]\n",
    "siglas=name.split(\"@\")\n",
    "siglas_1=siglas[1]\n",
    "print(siglas_1)"
   ]
  },
  {
   "cell_type": "markdown",
   "metadata": {},
   "source": [
    "## @([^]*)"
   ]
  },
  {
   "cell_type": "code",
   "execution_count": 71,
   "metadata": {},
   "outputs": [
    {
     "name": "stdout",
     "output_type": "stream",
     "text": [
      "['uct.ac.za']\n"
     ]
    }
   ],
   "source": [
    "import re\n",
    "x=\"From stephen.marquard@uct.ac.za sat jun 5 12:34:54 2008\"\n",
    "y=re.findall(\"@([^ ]*)\",x)\n",
    "print(y)"
   ]
  },
  {
   "cell_type": "code",
   "execution_count": 76,
   "metadata": {},
   "outputs": [
    {
     "name": "stdout",
     "output_type": "stream",
     "text": [
      "['uct.ac.za']\n"
     ]
    }
   ],
   "source": [
    "import re\n",
    "x=\"From stephen.marquard@uct.ac.za sat jun 5 12:34:54 2008\"\n",
    "y=re.findall (\"^From.*@([^ ]*)\",x)\n",
    "print(y)"
   ]
  },
  {
   "cell_type": "markdown",
   "metadata": {},
   "source": [
    "## ejemplo de las lecciones"
   ]
  },
  {
   "cell_type": "code",
   "execution_count": 3,
   "metadata": {},
   "outputs": [
    {
     "name": "stdout",
     "output_type": "stream",
     "text": [
      "/home/mati/Escritorio/submitt_partners/my_data/mbox-short.txt\n",
      "0.9907\n"
     ]
    }
   ],
   "source": [
    "#using research like startswith\n",
    "#using research()\n",
    "import re\n",
    "hand=input()\n",
    "openning=open(hand)\n",
    "#We create an empty list and then add the numbers found after passing them to float\n",
    "numlist=list()\n",
    "read=openning.readlines()\n",
    "for line in read:\n",
    "    line=line.rstrip()\n",
    "    #we tell you exactly what we want to find and specify that we want numbers\n",
    "    line_1=re.findall(\"^X-DSPAM-Confidence: ([0-9.]+)\",line)\n",
    "    #using an if as we know that len> 1 we specify to continue and give us those numbers\n",
    "    if len(line_1)!=1:continue\n",
    "    #passing them to float \n",
    "    num=float(line_1[0])\n",
    "    numlist.append(num)\n",
    "print(max(numlist))\n",
    "            \n",
    "   \n",
    "\n",
    "\n"
   ]
  },
  {
   "cell_type": "markdown",
   "metadata": {},
   "source": [
    "## Trabajo final de la lecciòn"
   ]
  },
  {
   "cell_type": "code",
   "execution_count": null,
   "metadata": {},
   "outputs": [],
   "source": [
    "#accesing to the  data\n",
    "/home/mati/Escritorio/textos_descargados_coursera/my_data/regex_sum_353800.txt"
   ]
  },
  {
   "cell_type": "code",
   "execution_count": null,
   "metadata": {},
   "outputs": [],
   "source": [
    "#example for practice\n",
    "/home/mati/Escritorio/textos_descargados_coursera/my_data/regex_sum_42.txt"
   ]
  },
  {
   "cell_type": "code",
   "execution_count": 30,
   "metadata": {},
   "outputs": [
    {
     "name": "stdout",
     "output_type": "stream",
     "text": [
      "/home/mati/Escritorio/submitt_partners/my_data/regex_sum_353800.txt\n",
      "355738\n"
     ]
    }
   ],
   "source": [
    "import re\n",
    "data=input()\n",
    "opening=open(data)\n",
    "numbers=list()\n",
    "suma=0\n",
    "read=opening.readlines()\n",
    "for line in read:\n",
    "    line=line.rstrip()\n",
    "    line_1=re.findall(\"[0-9]+\",line)\n",
    "    for i in line_1:\n",
    "        numbers.append(i)\n",
    "for num in numbers:\n",
    "    num=int(num)\n",
    "    suma=suma+num\n",
    "print(suma)\n"
   ]
  },
  {
   "cell_type": "markdown",
   "metadata": {},
   "source": [
    "## Exercises by google"
   ]
  },
  {
   "cell_type": "code",
   "execution_count": null,
   "metadata": {},
   "outputs": [],
   "source": [
    "///home/mati/.cache/.fr-pBIPkI/google-python-exercises/babynames/baby1990.html"
   ]
  },
  {
   "cell_type": "code",
   "execution_count": null,
   "metadata": {},
   "outputs": [],
   "source": [
    "names=input()\n",
    "opening=open(names)\n",
    "read=opening.readlines()\n",
    "for line in read:\n",
    "    line=line.split()\n",
    "    print(line)"
   ]
  },
  {
   "cell_type": "code",
   "execution_count": 33,
   "metadata": {},
   "outputs": [
    {
     "name": "stdout",
     "output_type": "stream",
     "text": [
      "['From ']\n"
     ]
    }
   ],
   "source": [
    "import re\n",
    "x=\"From stephen.marquard@uct.ac.za sat jun 5 12:34:54 2008\"\n",
    "y=re.findall (\"^From \",x)\n",
    "print(y)"
   ]
  }
 ],
 "metadata": {
  "kernelspec": {
   "display_name": "Python 3",
   "language": "python",
   "name": "python3"
  },
  "language_info": {
   "codemirror_mode": {
    "name": "ipython",
    "version": 3
   },
   "file_extension": ".py",
   "mimetype": "text/x-python",
   "name": "python",
   "nbconvert_exporter": "python",
   "pygments_lexer": "ipython3",
   "version": "3.6.8"
  }
 },
 "nbformat": 4,
 "nbformat_minor": 2
}
