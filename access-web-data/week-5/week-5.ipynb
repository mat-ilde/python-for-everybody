{
 "cells": [
  {
   "cell_type": "markdown",
   "metadata": {},
   "source": [
    "## Expressions selecting Nodes"
   ]
  },
  {
   "cell_type": "raw",
   "metadata": {},
   "source": [
    "nodename\tSelects all nodes with the name \"nodename\"\n",
    "/\tSelects from the root node\n",
    "//\tSelects nodes in the document from the current node that match the selection no matter where they are\n",
    ".\tSelects the current node\n",
    "..\tSelects the parent of the current node\n",
    "@\tSelects attributes"
   ]
  },
  {
   "cell_type": "markdown",
   "metadata": {},
   "source": [
    "## In the table below we have listed some path expressions and the result of the expressions:"
   ]
  },
  {
   "cell_type": "raw",
   "metadata": {},
   "source": [
    "bookstore\tSelects all nodes with the name \"bookstore\"\n",
    "/bookstore\tSelects the root element bookstore\n",
    "Note: If the path starts with a slash ( / ) it always represents an absolute path to an element!\n",
    "\n",
    "bookstore/book\tSelects all book elements that are children of bookstore\n",
    "//book\tSelects all book elements no matter where they are in the document\n",
    "bookstore//book\tSelects all book elements that are descendant of the bookstore element, no matter where they are under the bookstore element\n",
    "//@lang\tSelects all attributes that are named lang"
   ]
  },
  {
   "cell_type": "markdown",
   "metadata": {},
   "source": [
    "## Predicates\n",
    "Predicates are used to find a specific node or a node that contains a specific value."
   ]
  },
  {
   "cell_type": "raw",
   "metadata": {},
   "source": [
    "/bookstore/book[1]\tSelects the first book element that is the child of the bookstore element.\n",
    "Note: In IE 5,6,7,8,9 first node is[0], but according to W3C, it is [1]. To solve this problem in IE, set the SelectionLanguage to XPath:\n",
    "\n",
    "In JavaScript: xml.setProperty(\"SelectionLanguage\",\"XPath\");\n",
    "/bookstore/book[last()]\tSelects the last book element that is the child of the bookstore element\n",
    "/bookstore/book[last()-1]\tSelects the last but one book element that is the child of the bookstore element\n",
    "/bookstore/book[position()<3]\tSelects the first two book elements that are children of the bookstore element\n",
    "//title[@lang]\tSelects all the title elements that have an attribute named lang\n",
    "//title[@lang='en']\tSelects all the title elements that have a \"lang\" attribute with a value of \"en\"\n",
    "/bookstore/book[price>35.00]\tSelects all the book elements of the bookstore element that have a price element with a value greater than 35.00\n",
    "/bookstore/book[price>35.00]/title\tSelects all the title elements of the book elements of the bookstore element that have a price element with a value greater than 35.00\n"
   ]
  },
  {
   "cell_type": "markdown",
   "metadata": {},
   "source": [
    "## Selecting Unknown Nodes\n",
    "XPath wildcards can be used to select unknown XML nodes."
   ]
  },
  {
   "cell_type": "raw",
   "metadata": {},
   "source": [
    "Wildcard\tDescription\n",
    "*\tMatches any element node\n",
    "@*\tMatches any attribute node\n",
    "node()\tMatches any node of any kind"
   ]
  },
  {
   "cell_type": "raw",
   "metadata": {},
   "source": [
    "/bookstore/*\tSelects all the child element nodes of the bookstore element\n",
    "//*\tSelects all elements in the document\n",
    "//title[@*]\tSelects all title elements which have at least one attribute of any kind\n"
   ]
  },
  {
   "cell_type": "markdown",
   "metadata": {},
   "source": [
    "## Selecting Several Paths\n",
    "By using the | operator in an XPath expression you can select several paths."
   ]
  },
  {
   "cell_type": "raw",
   "metadata": {},
   "source": [
    "Path Expression\tResult\n",
    "//book/title | //book/price\tSelects all the title AND price elements of all book elements\n",
    "//title | //price\tSelects all the title AND price elements in the document\n",
    "/bookstore/book/title | //price\tSelects all the title elements of the book element of the bookstore element AND all the price elements in the document\n"
   ]
  },
  {
   "cell_type": "markdown",
   "metadata": {},
   "source": [
    "## Axes"
   ]
  },
  {
   "cell_type": "raw",
   "metadata": {},
   "source": [
    "Example\tResult\n",
    "child::book\tSelects all book nodes that are children of the current node\n",
    "attribute::lang\tSelects the lang attribute of the current node\n",
    "child::*\tSelects all element children of the current node\n",
    "attribute::*\tSelects all attributes of the current node\n",
    "child::text()\tSelects all text node children of the current node\n",
    "child::node()\tSelects all children of the current node\n",
    "descendant::book\tSelects all book descendants of the current node\n",
    "ancestor::book\tSelects all book ancestors of the current node\n",
    "ancestor-or-self::book\tSelects all book ancestors of the current node - and the current as well if it is a book node\n",
    "child::*/child::price\tSelects all price grandchildren of the current node"
   ]
  },
  {
   "cell_type": "markdown",
   "metadata": {},
   "source": [
    "## Final_work_1"
   ]
  },
  {
   "cell_type": "code",
   "execution_count": null,
   "metadata": {},
   "outputs": [],
   "source": [
    "\"http://py4e-data.dr-chuck.net/comments_42.xml\""
   ]
  },
  {
   "cell_type": "code",
   "execution_count": 89,
   "metadata": {},
   "outputs": [
    {
     "name": "stdout",
     "output_type": "stream",
     "text": [
      "2197\n"
     ]
    }
   ],
   "source": [
    "import urllib.request, urllib.parse, urllib.error\n",
    "from bs4 import BeautifulSoup\n",
    "import re\n",
    "import xml.etree.ElementTree as ET\n",
    "import ssl\n",
    "suma=0\n",
    "url=\"http://py4e-data.dr-chuck.net/comments_353804.xml\"\n",
    "html=urllib.request.urlopen(url).read()\n",
    "soup=BeautifulSoup(html, \"html.parser\")\n",
    "count=soup.find_all(\"count\")\n",
    "for number in count:\n",
    "    count=str(count)\n",
    "    numbers=re.findall(\"[0-9]+\",count)\n",
    "for num in numbers:\n",
    "    num=int(num)\n",
    "    suma=suma+num\n",
    "print(suma)"
   ]
  },
  {
   "cell_type": "markdown",
   "metadata": {},
   "source": [
    "## Final_work_2"
   ]
  },
  {
   "cell_type": "code",
   "execution_count": 4,
   "metadata": {},
   "outputs": [
    {
     "name": "stdout",
     "output_type": "stream",
     "text": [
      "{'Belgian Waffles': 5.95, 'Strawberry Belgian Waffles': 7.95, 'Berry-Berry Belgian Waffles': 8.95, 'French Toast': 4.5, 'Homestyle Breakfast': 6.95}\n"
     ]
    }
   ],
   "source": [
    "import xml.etree.ElementTree as ET\n",
    "tree = ET.parse('sample_2.xml')\n",
    "breakfast = tree.getroot()\n",
    "price_of_breakfast=dict()\n",
    "for food in breakfast:\n",
    "    for food_properties in food:\n",
    "        if food_properties.tag==\"price\":\n",
    "            price=food_properties.text\n",
    "            price=price.split(\"$\")\n",
    "            price=price[1]\n",
    "            price=float(price)\n",
    "        if food_properties.tag==\"name\":\n",
    "            name=food_properties.text\n",
    "    price_of_breakfast[name]=price\n",
    "print(price_of_breakfast)\n",
    "       \n",
    "\n",
    "\n"
   ]
  },
  {
   "cell_type": "code",
   "execution_count": 26,
   "metadata": {},
   "outputs": [
    {
     "name": "stdout",
     "output_type": "stream",
     "text": [
      "Belgian Waffles 5.95\n",
      "Strawberry Belgian Waffles 7.95\n",
      "Berry-Berry Belgian Waffles 8.95\n",
      "French Toast 4.5\n",
      "Homestyle Breakfast 6.95\n"
     ]
    }
   ],
   "source": [
    "maximo=0\n",
    "for product,price in price_of_breakfast.items():\n",
    "    print(product,price)\n",
    "    if price>maximo:\n",
    "        maximo=price\n",
    "        max_product=product\n",
    "#print(max_product)\n",
    "\n",
    "\n",
    "            "
   ]
  },
  {
   "cell_type": "code",
   "execution_count": 27,
   "metadata": {},
   "outputs": [
    {
     "name": "stdout",
     "output_type": "stream",
     "text": [
      "French Toast\n"
     ]
    }
   ],
   "source": [
    "minimo=1000\n",
    "for product,price in price_of_breakfast.items():\n",
    "    if price<minimo:\n",
    "        minimo=price\n",
    "        min_product=product\n",
    "print(min_product)\n",
    "    "
   ]
  }
 ],
 "metadata": {
  "kernelspec": {
   "display_name": "Python 3",
   "language": "python",
   "name": "python3"
  },
  "language_info": {
   "codemirror_mode": {
    "name": "ipython",
    "version": 3
   },
   "file_extension": ".py",
   "mimetype": "text/x-python",
   "name": "python",
   "nbconvert_exporter": "python",
   "pygments_lexer": "ipython3",
   "version": "3.6.8"
  }
 },
 "nbformat": 4,
 "nbformat_minor": 2
}
