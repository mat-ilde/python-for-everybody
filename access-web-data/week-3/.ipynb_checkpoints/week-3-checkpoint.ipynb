{
 "cells": [
  {
   "cell_type": "code",
   "execution_count": 2,
   "metadata": {
    "scrolled": true
   },
   "outputs": [
    {
     "name": "stdout",
     "output_type": "stream",
     "text": [
      "hola\n",
      "hola2\n",
      "b''\n"
     ]
    }
   ],
   "source": [
    "# acceding to internet data using socket\n",
    "import socket\n",
    "mysock=socket.socket(socket.AF_INET,socket.SOCK_STREAM)\n",
    "mysock.connect((\"data.pr4e.org\",80))\n",
    "cmd=\"GET http://data.pr4e.org/romeo.txt HTTP/1.0/r/n/r/\".encode()\n",
    "mysock.send(cmd)\n",
    "\n",
    "while True:\n",
    "    data=mysock.recv(10)\n",
    "    print(data)\n",
    "    if (len(data)<1):\n",
    "        break\n",
    "    print(data.decode())\n",
    "mysock.close()"
   ]
  },
  {
   "cell_type": "markdown",
   "metadata": {},
   "source": [
    "## Final work"
   ]
  },
  {
   "cell_type": "code",
   "execution_count": 30,
   "metadata": {
    "scrolled": true
   },
   "outputs": [],
   "source": [
    "import requests\n",
    "response =requests.get('http://data.pr4e.org/intro-short.txt')\n"
   ]
  },
  {
   "cell_type": "code",
   "execution_count": 41,
   "metadata": {},
   "outputs": [
    {
     "data": {
      "text/plain": [
       "'Why should you learn to write programs?\\n\\nWriting programs (or programming) is a very creative \\nand rewarding activity.  You can write programs for \\nmany reasons, ranging from making your living to solving\\na difficult data analysis problem to having fun to helping\\nsomeone else solve a problem.  This book assumes that \\neveryone needs to know how to program, and that once \\nyou know how to program you will figure out what you want \\nto do with your newfound skills.  \\n'"
      ]
     },
     "execution_count": 41,
     "metadata": {},
     "output_type": "execute_result"
    }
   ],
   "source": [
    "response.text\n"
   ]
  },
  {
   "cell_type": "code",
   "execution_count": 40,
   "metadata": {
    "scrolled": true
   },
   "outputs": [
    {
     "data": {
      "text/plain": [
       "{'Date': 'Wed, 25 Mar 2020 11:20:34 GMT', 'Server': 'Apache/2.4.18 (Ubuntu)', 'Last-Modified': 'Sat, 13 May 2017 11:22:22 GMT', 'ETag': '\"1d3-54f6609240717\"', 'Accept-Ranges': 'bytes', 'Content-Length': '467', 'Cache-Control': 'max-age=0, no-cache, no-store, must-revalidate', 'Pragma': 'no-cache', 'Expires': 'Wed, 11 Jan 1984 05:00:00 GMT', 'Keep-Alive': 'timeout=5, max=100', 'Connection': 'Keep-Alive', 'Content-Type': 'text/plain'}"
      ]
     },
     "execution_count": 40,
     "metadata": {},
     "output_type": "execute_result"
    }
   ],
   "source": [
    "response.headers"
   ]
  }
 ],
 "metadata": {
  "kernelspec": {
   "display_name": "Python 3",
   "language": "python",
   "name": "python3"
  },
  "language_info": {
   "codemirror_mode": {
    "name": "ipython",
    "version": 3
   },
   "file_extension": ".py",
   "mimetype": "text/x-python",
   "name": "python",
   "nbconvert_exporter": "python",
   "pygments_lexer": "ipython3",
   "version": "3.6.8"
  }
 },
 "nbformat": 4,
 "nbformat_minor": 2
}
